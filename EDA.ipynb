{
 "cells": [
  {
   "cell_type": "code",
   "execution_count": 12,
   "metadata": {
    "id": "aZMaRXOE9j1p"
   },
   "outputs": [],
   "source": [
    "import pandas as pd\n",
    "import seaborn as sns\n",
    "import matplotlib.pyplot as plt\n",
    "import plotly.express as px\n",
    "import numpy as np\n",
    "from datetime import datetime\n",
    "import warnings\n",
    "from ipywidgets import widgets, interactive_output\n",
    "from IPython.display import display\n",
    "\n",
    "warnings.filterwarnings(\"ignore\")"
   ]
  },
  {
   "cell_type": "code",
   "execution_count": 67,
   "metadata": {
    "colab": {
     "base_uri": "https://localhost:8080/"
    },
    "id": "nrzLt_wM9rl8",
    "outputId": "ccc53c64-7384-4bd4-f21c-c59e6d48a793"
   },
   "outputs": [],
   "source": [
    "df_expuestos = pd.read_csv(\"data/BD_Expuestos.csv\", delimiter=\"\\t\", parse_dates=[\"FECHA_INICIO\", \"FECHA_CANCELACION\", \"FECHA_FIN\"])\n",
    "\n",
    "df_sociodem = pd.read_csv(\"data/BD_Sociodemograficas.csv\", encoding=\"latin-1\", delimiter=\"\\t\", parse_dates=[\"FechaNacimiento\"])\n",
    "\n",
    "df_sin = pd.read_csv(\"data/DB_Siniestros.csv\", parse_dates=[\"Mes_Pago\"], date_format=\"%Y%m\")\n",
    "\n",
    "caps = pd.read_excel(\"data/listas_de_causas.xlsx\")"
   ]
  },
  {
   "cell_type": "markdown",
   "metadata": {
    "jp-MarkdownHeadingCollapsed": true
   },
   "source": [
    "## Expuestos"
   ]
  },
  {
   "cell_type": "code",
   "execution_count": 68,
   "metadata": {},
   "outputs": [],
   "source": [
    "# Cambiar los valores con una fecha fin anterior a la fecha de cancelacion\n",
    "df_expuestos.loc[(df_expuestos[\"FECHA_CANCELACION\"] > df_expuestos[\"FECHA_FIN\"]), \"FECHA_FIN\"] = df_expuestos.loc[(df_expuestos[\"FECHA_CANCELACION\"] > df_expuestos[\"FECHA_FIN\"]), \"FECHA_CANCELACION\"] \n",
    "\n",
    "# Eliminar columna de fecha de cancelacion\n",
    "df_expuestos.drop(\"FECHA_CANCELACION\", axis=1, inplace=True)"
   ]
  },
  {
   "cell_type": "markdown",
   "metadata": {
    "id": "Yu5s6SnhuYWS"
   },
   "source": [
    "## Siniestros"
   ]
  },
  {
   "cell_type": "code",
   "execution_count": 69,
   "metadata": {},
   "outputs": [],
   "source": [
    "df_sin[\"Diagnostico_Codigo\"] = df_sin[\"Diagnostico_Codigo\"].str[0].replace([\"W\", \"X\"], [\"Y\"]*2) + df_sin[\"Diagnostico_Codigo\"].str[1:]\n",
    "\n",
    "tipo_cap = []\n",
    "\n",
    "for i in df_sin[\"Diagnostico_Codigo\"]:\n",
    "    \n",
    "    if i.isnumeric() or i == \"-1\":\n",
    "        tipo_cap.append(\"Sin Diagnostico\")\n",
    "    else:\n",
    "        \n",
    "        for j in range(caps.shape[0]):\n",
    "            if i[0] == caps.loc[j, \"Codigos\"][0] or i[0] == caps.loc[j, \"Codigos\"][4]:\n",
    "                if int(i[1:3]) in range(int(caps.loc[j, \"Codigos\"][1:3]), int(caps.loc[j, \"Codigos\"][-2:])+1):\n",
    "                    tipo_cap.append(caps.loc[j, \"Cap\"])\n",
    "                    break\n",
    "                else:\n",
    "                    if i[0] == \"H\" or i[0] == \"D\":\n",
    "                        continue\n",
    "                    else:\n",
    "                        tipo_cap.append(\"Sin info\")\n",
    "\n",
    "df_sin[\"Cap_CIE\"] = tipo_cap  "
   ]
  },
  {
   "cell_type": "code",
   "execution_count": 5,
   "metadata": {
    "id": "Tu15qxV7loIl"
   },
   "outputs": [
    {
     "data": {
      "text/html": [
       "<div>\n",
       "<style scoped>\n",
       "    .dataframe tbody tr th:only-of-type {\n",
       "        vertical-align: middle;\n",
       "    }\n",
       "\n",
       "    .dataframe tbody tr th {\n",
       "        vertical-align: top;\n",
       "    }\n",
       "\n",
       "    .dataframe thead th {\n",
       "        text-align: right;\n",
       "    }\n",
       "</style>\n",
       "<table border=\"1\" class=\"dataframe\">\n",
       "  <thead>\n",
       "    <tr style=\"text-align: right;\">\n",
       "      <th></th>\n",
       "      <th>Reclamacion</th>\n",
       "      <th>Diagnostico_Codigo</th>\n",
       "      <th>Diagnostico_Desc</th>\n",
       "      <th>Cap_CIE</th>\n",
       "    </tr>\n",
       "  </thead>\n",
       "  <tbody>\n",
       "    <tr>\n",
       "      <th>Cantidad de categorias</th>\n",
       "      <td>41</td>\n",
       "      <td>5808</td>\n",
       "      <td>5751</td>\n",
       "      <td>23</td>\n",
       "    </tr>\n",
       "  </tbody>\n",
       "</table>\n",
       "</div>"
      ],
      "text/plain": [
       "                        Reclamacion  Diagnostico_Codigo  Diagnostico_Desc  \\\n",
       "Cantidad de categorias           41                5808              5751   \n",
       "\n",
       "                        Cap_CIE  \n",
       "Cantidad de categorias       23  "
      ]
     },
     "execution_count": 5,
     "metadata": {},
     "output_type": "execute_result"
    }
   ],
   "source": [
    "df_sin.select_dtypes(\"object\").apply(pd.Series.nunique).to_frame().rename({0:\"Cantidad de categorias\"}, axis=1).T"
   ]
  },
  {
   "cell_type": "code",
   "execution_count": 70,
   "metadata": {},
   "outputs": [],
   "source": [
    "df_sin.drop([\"Diagnostico_Desc\", \"Diagnostico_Codigo\", \"Reclamacion\"], axis=1, inplace=True)"
   ]
  },
  {
   "cell_type": "code",
   "execution_count": 7,
   "metadata": {
    "colab": {
     "base_uri": "https://localhost:8080/",
     "height": 854
    },
    "id": "QJJhOCZGa_Tr",
    "outputId": "0dba0394-11b8-42f7-d47a-2f57a2c46863"
   },
   "outputs": [
    {
     "data": {
      "image/png": "[encoded data removed]",
      "text/plain": [
       "<Figure size 1132.62x700 with 3 Axes>"
      ]
     },
     "metadata": {},
     "output_type": "display_data"
    }
   ],
   "source": [
    "fig = plt.figure(figsize=(7*((1+np.sqrt(5))/2), 7))\n",
    "\n",
    "ax = plt.subplot(1, 3, 1)\n",
    "\n",
    "data = df_sin.set_index(\"Mes_Pago\").resample(\"M\")[\"Valor_Pagado\"].sum().to_frame()\n",
    "\n",
    "df_sin.set_index(\"Mes_Pago\").resample(\"M\")[\"Valor_Pagado\"].sum().to_frame().plot(kind=\"line\", ax=ax, color=sns.color_palette(\"pastel\")[0],\n",
    "                                                                                title=\"Mes del Año vs. Valor pagado\")\n",
    "plt.xlabel(\"Mes de Pago\")\n",
    "\n",
    "ax = plt.subplot(1, 3, 2)\n",
    "\n",
    "data = df_sin.set_index(\"Mes_Pago\").resample(\"M\")[\"Valor_Pagado\"].sum().to_frame()\n",
    "\n",
    "df_sin[\"Eventos\"].plot(kind=\"box\", ax=ax, color=sns.color_palette(\"pastel\")[1], title=\"Boxplot para la distribucion\\nde la variable Eventos\")\n",
    "\n",
    "ax = plt.subplot(1, 3, 3)\n",
    "\n",
    "data = df_sin.set_index(\"Mes_Pago\").resample(\"M\")[\"Valor_Pagado\"].sum().to_frame()\n",
    "\n",
    "df_sin.groupby(\"Eventos\", as_index=False)[\"Valor_Pagado\"].sum().iloc[7:-1].plot(kind=\"scatter\", x=\"Eventos\", y=\"Valor_Pagado\", ax=ax, color=sns.color_palette(\"pastel\")[2], \n",
    "                                                                               title=\"Eventos vs. Valor Pagado\")\n",
    "\n",
    "plt.ylabel(\"Valor Pagado\")\n",
    "\n",
    "plt.tight_layout()\n",
    "\n",
    "plt.show()\n"
   ]
  },
  {
   "cell_type": "code",
   "execution_count": null,
   "metadata": {},
   "outputs": [],
   "source": [
    "df_sin.sort_values(by=[\"Cap_CIE\", \"Eventos\"])"
   ]
  },
  {
   "cell_type": "code",
   "execution_count": 38,
   "metadata": {},
   "outputs": [
    {
     "data": {
      "application/vnd.jupyter.widget-view+json": {
       "model_id": "d804a6b26988495eb1bbc1da961c01d1",
       "version_major": 2,
       "version_minor": 0
      },
      "text/plain": [
       "Dropdown(index=5, options=('I', 'II', 'III', 'IV', 'IX', 'Sin Diagnostico', 'Sin info', 'V', 'VI', 'VII', 'VII…"
      ]
     },
     "metadata": {},
     "output_type": "display_data"
    },
    {
     "data": {
      "application/vnd.jupyter.widget-view+json": {
       "model_id": "b3ca9971aaba4202bf2e218a6e8ef163",
       "version_major": 2,
       "version_minor": 0
      },
      "text/plain": [
       "Output()"
      ]
     },
     "metadata": {},
     "output_type": "display_data"
    }
   ],
   "source": [
    "wid_1 = widgets.Dropdown(options=np.sort(df_sin[\"Cap_CIE\"].unique()), value=\"Sin Diagnostico\")\n",
    "\n",
    "def box_graphs(cod):\n",
    "\n",
    "    df_sin.groupby(\"Cap_CIE\").get_group(cod)[\"Eventos\"].plot(kind=\"box\");\n",
    "    \n",
    "output = interactive_output(box_graphs, {\"cod\":wid_1})\n",
    "display(wid_1, output)"
   ]
  },
  {
   "cell_type": "code",
   "execution_count": 34,
   "metadata": {},
   "outputs": [
    {
     "data": {
      "application/vnd.plotly.v1+json": {
       "config": {
        "plotlyServerURL": "https://plot.ly"
       },
       "data": [
        {
         "hovertemplate": "Cap_CIE=I<br>Eventos=%{x}<br>Valor_Pagado=%{y}<extra></extra>",
         "legendgroup": "",
         "marker": {
          "color": "#636efa",
          "symbol": "circle"
         },
         "mode": "markers",
         "name": "",
         "orientation": "v",
         "showlegend": false,
         "type": "scatter",
         "x": [
          1,
          2,
          3,
          4
         ],
         "xaxis": "x21",
         "y": [
          24821403790.0441,
          472638973.45693,
          38377734.306917995,
          1678128.603642
         ],
         "yaxis": "y21"
        },
        {
         "hovertemplate": "Cap_CIE=II<br>Eventos=%{x}<br>Valor_Pagado=%{y}<extra></extra>",
         "legendgroup": "",
         "marker": {
          "color": "#636efa",
          "symbol": "circle"
         },
         "mode": "markers",
         "name": "",
         "orientation": "v",
         "showlegend": false,
         "type": "scatter",
         "x": [
          1,
          2,
          3,
          4,
          5,
          6
         ],
         "xaxis": "x22",
         "y": [
          83755017353.15436,
          4696530249.888878,
          514370373.50173795,
          28850388.586702,
          7407162.715642,
          5468285.290224
         ],
         "yaxis": "y22"
        },
        {
         "hovertemplate": "Cap_CIE=III<br>Eventos=%{x}<br>Valor_Pagado=%{y}<extra></extra>",
         "legendgroup": "",
         "marker": {
          "color": "#636efa",
          "symbol": "circle"
         },
         "mode": "markers",
         "name": "",
         "orientation": "v",
         "showlegend": false,
         "type": "scatter",
         "x": [
          1,
          2
         ],
         "xaxis": "x23",
         "y": [
          4761136476.07031,
          13686269.282658
         ],
         "yaxis": "y23"
        },
        {
         "hovertemplate": "Cap_CIE=IV<br>Eventos=%{x}<br>Valor_Pagado=%{y}<extra></extra>",
         "legendgroup": "",
         "marker": {
          "color": "#636efa",
          "symbol": "circle"
         },
         "mode": "markers",
         "name": "",
         "orientation": "v",
         "showlegend": false,
         "type": "scatter",
         "x": [
          1,
          2,
          3,
          4,
          5,
          6,
          7,
          8,
          9,
          10,
          11,
          12,
          13,
          14,
          16,
          17,
          20
         ],
         "xaxis": "x24",
         "y": [
          26434512444.019165,
          4460584748.654079,
          957299738.1126139,
          260104972.507134,
          76192818.57123199,
          27976464.461436,
          17062730.713738,
          17031288.523456,
          11883657.441923998,
          7853189.459748,
          2343505.147666,
          5493807.674254,
          5187129.719380001,
          1047846.802642,
          4812054.082403999,
          4009937.9449940003,
          1152254.9273859998
         ],
         "yaxis": "y24"
        },
        {
         "hovertemplate": "Cap_CIE=IX<br>Eventos=%{x}<br>Valor_Pagado=%{y}<extra></extra>",
         "legendgroup": "",
         "marker": {
          "color": "#636efa",
          "symbol": "circle"
         },
         "mode": "markers",
         "name": "",
         "orientation": "v",
         "showlegend": false,
         "type": "scatter",
         "x": [
          1,
          2,
          3,
          4,
          5,
          6,
          7,
          8
         ],
         "xaxis": "x25",
         "y": [
          62202793612.0459,
          2617005682.8441358,
          189544306.537972,
          30260890.392338,
          4349003.152636,
          4253787.310084,
          1205117.88738,
          1306300.4954799998
         ],
         "yaxis": "y25"
        },
        {
         "hovertemplate": "Cap_CIE=Sin Diagnostico<br>Eventos=%{x}<br>Valor_Pagado=%{y}<extra></extra>",
         "legendgroup": "",
         "marker": {
          "color": "#636efa",
          "symbol": "circle"
         },
         "mode": "markers",
         "name": "",
         "orientation": "v",
         "showlegend": false,
         "type": "scatter",
         "x": [
          0,
          1,
          2,
          3,
          4,
          5,
          6,
          7,
          8,
          9,
          10,
          11,
          12,
          13,
          14,
          15,
          16,
          17,
          18,
          19,
          20,
          21,
          22,
          23,
          24,
          25,
          26,
          27,
          28,
          29,
          30,
          31,
          32,
          33,
          34,
          35,
          36,
          37,
          38,
          39,
          40,
          41,
          42,
          43,
          44,
          45,
          46,
          47,
          48,
          49,
          50,
          51,
          52,
          53,
          54,
          55,
          56,
          57,
          58,
          59,
          60,
          61,
          62,
          63,
          64,
          65,
          66,
          67,
          68,
          69,
          70,
          71,
          72,
          73,
          74,
          75,
          76,
          77,
          78,
          79,
          80,
          81,
          83,
          84,
          85,
          86,
          88,
          89,
          90,
          91,
          94,
          95,
          96,
          97,
          98,
          100,
          101,
          102,
          103,
          104,
          105,
          107,
          108,
          110,
          111,
          112,
          113,
          114,
          115,
          116,
          117,
          120,
          122,
          123,
          128,
          130,
          132,
          136,
          137,
          140,
          141,
          143,
          145,
          146,
          149,
          154,
          167,
          168,
          176,
          181,
          184,
          196,
          199,
          201,
          202,
          210,
          213,
          215,
          220,
          224,
          254,
          279
         ],
         "xaxis": "x16",
         "y": [
          1748273664.7387578,
          949872590542.8254,
          284743122432.17316,
          101634157653.70348,
          47080436803.60212,
          26379642141.111515,
          19283655445.30776,
          14176843088.492403,
          13937022309.61289,
          12079953897.550436,
          16146846368.933132,
          11241701714.176043,
          11754152009.151247,
          10456507093.748302,
          10510719217.497143,
          9923601082.954596,
          9186500374.893263,
          7807374347.498874,
          7013133426.481529,
          5845842756.704324,
          6218192367.34482,
          3964955476.077038,
          3547980535.631742,
          2864185178.3499618,
          2630742010.235654,
          1983445666.2076058,
          1526180500.6019058,
          1269337701.939972,
          1210631910.4789,
          861751210.192358,
          1020968592.8627579,
          546228255.9881619,
          493227361.63413996,
          419912047.25263,
          368960264.429586,
          307466182.569784,
          270621547.536478,
          207820311.102346,
          196573289.681086,
          223100469.854918,
          247733673.10089198,
          143189627.170412,
          104977161.72329399,
          81877188.369782,
          94779045.14965999,
          71268048.74488999,
          55450542.138849996,
          45336685.183749996,
          80778662.194448,
          48171598.81271,
          85499408.27498199,
          67080835.021791995,
          46186507.523538,
          38908066.108144,
          85719107.347972,
          39070439.627196,
          41354673.325134,
          49359749.64625999,
          46496970.124136,
          23692615.804635998,
          50369010.64891,
          13271966.464647999,
          18614638.573028,
          12217121.259424,
          14381689.470506,
          16046886.631396,
          33852878.776606,
          4089262.4682839997,
          9481871.385526,
          4586297.266884,
          27045461.12557,
          4037166.999284,
          9928696.424356,
          18899062.210723996,
          9487221.816968001,
          4116117.315684,
          19049510.996894,
          15056507.754673999,
          3746312.859684,
          8910954.932883998,
          8681869.890568,
          8213800.166077999,
          4286130.505241999,
          4837236.004884,
          10322375.273284,
          11270794.578168001,
          2546576.220784,
          6059131.5615840005,
          2646370.588042,
          7869971.531502,
          5276305.422483999,
          2530439.826042,
          6438785.72992,
          3455978.2006419995,
          4728133.418017999,
          28102749.675009996,
          6670725.036908,
          15135547.593886,
          2953118.98186,
          2973031.1908419994,
          2874856.912642,
          6889729.972842,
          4560074.902502,
          6587203.519884,
          6158846.691684,
          3198876.055042,
          21952373.219763998,
          639770.5204019999,
          11618108.459686,
          1605928.686042,
          2262184.847642,
          21450745.248294,
          5215082.240324,
          6573121.600996001,
          3354575.470842,
          3309964.139642,
          3732363.007162,
          3758322.692982,
          1529694.67142,
          4677653.635642,
          5025513.432284,
          4840966.33396,
          3592600.4024419994,
          7349542.205279999,
          23651997.427842,
          7700285.582883999,
          4146558.672662,
          4955887.464442,
          2769932.235642,
          6796691.867641999,
          7640931.961042,
          5338605.726842,
          622551.1335499999,
          497062.687336,
          1576648.097508,
          602467.2296419999,
          716035.3520619998,
          1044088.591484,
          764770.296442,
          513831.558442,
          7024737.948842,
          6697490.354842
         ],
         "yaxis": "y16"
        },
        {
         "hovertemplate": "Cap_CIE=Sin info<br>Eventos=%{x}<br>Valor_Pagado=%{y}<extra></extra>",
         "legendgroup": "",
         "marker": {
          "color": "#636efa",
          "symbol": "circle"
         },
         "mode": "markers",
         "name": "",
         "orientation": "v",
         "showlegend": false,
         "type": "scatter",
         "x": [
          1,
          2,
          3,
          4,
          5,
          6,
          7
         ],
         "xaxis": "x17",
         "y": [
          71545843685.91948,
          7221076588.581555,
          989603902.4028759,
          99551234.97926599,
          13550934.012486,
          2520460.975642,
          14650579.846917998
         ],
         "yaxis": "y17"
        },
        {
         "hovertemplate": "Cap_CIE=V<br>Eventos=%{x}<br>Valor_Pagado=%{y}<extra></extra>",
         "legendgroup": "",
         "marker": {
          "color": "#636efa",
          "symbol": "circle"
         },
         "mode": "markers",
         "name": "",
         "orientation": "v",
         "showlegend": false,
         "type": "scatter",
         "x": [
          1,
          2,
          3,
          4,
          5,
          6,
          10
         ],
         "xaxis": "x18",
         "y": [
          9379173198.107153,
          365412859.63111395,
          65130411.35304399,
          2405484.074342,
          11091348.426717998,
          2731484.312042,
          4088621.173744
         ],
         "yaxis": "y18"
        },
        {
         "hovertemplate": "Cap_CIE=VI<br>Eventos=%{x}<br>Valor_Pagado=%{y}<extra></extra>",
         "legendgroup": "",
         "marker": {
          "color": "#636efa",
          "symbol": "circle"
         },
         "mode": "markers",
         "name": "",
         "orientation": "v",
         "showlegend": false,
         "type": "scatter",
         "x": [
          1,
          2,
          3,
          4,
          5,
          6,
          7,
          8,
          11,
          19
         ],
         "xaxis": "x19",
         "y": [
          24848383889.495102,
          967568792.0742599,
          99755850.258442,
          31938657.989738,
          14210327.695281997,
          10453698.425334,
          4375174.14198,
          1856339.131962,
          2794452.325544,
          2020457.469048
         ],
         "yaxis": "y19"
        },
        {
         "hovertemplate": "Cap_CIE=VII<br>Eventos=%{x}<br>Valor_Pagado=%{y}<extra></extra>",
         "legendgroup": "",
         "marker": {
          "color": "#636efa",
          "symbol": "circle"
         },
         "mode": "markers",
         "name": "",
         "orientation": "v",
         "showlegend": false,
         "type": "scatter",
         "x": [
          1,
          2,
          3,
          4,
          5,
          6
         ],
         "xaxis": "x20",
         "y": [
          35761647663.42042,
          5897279904.95964,
          178436036.67566797,
          23719475.194204,
          7291020.683387999,
          659376.0264819999
         ],
         "yaxis": "y20"
        },
        {
         "hovertemplate": "Cap_CIE=VIII<br>Eventos=%{x}<br>Valor_Pagado=%{y}<extra></extra>",
         "legendgroup": "",
         "marker": {
          "color": "#636efa",
          "symbol": "circle"
         },
         "mode": "markers",
         "name": "",
         "orientation": "v",
         "showlegend": false,
         "type": "scatter",
         "x": [
          1,
          2,
          3,
          4
         ],
         "xaxis": "x11",
         "y": [
          8178471972.150778,
          220614005.99533397,
          42939442.552358,
          17267501.099764
         ],
         "yaxis": "y11"
        },
        {
         "hovertemplate": "Cap_CIE=X<br>Eventos=%{x}<br>Valor_Pagado=%{y}<extra></extra>",
         "legendgroup": "",
         "marker": {
          "color": "#636efa",
          "symbol": "circle"
         },
         "mode": "markers",
         "name": "",
         "orientation": "v",
         "showlegend": false,
         "type": "scatter",
         "x": [
          1,
          2,
          3,
          4,
          7
         ],
         "xaxis": "x12",
         "y": [
          75684538913.24812,
          1443787986.5625799,
          25009878.374084,
          4893704.571632,
          1186036.2709459998
         ],
         "yaxis": "y12"
        },
        {
         "hovertemplate": "Cap_CIE=XI<br>Eventos=%{x}<br>Valor_Pagado=%{y}<extra></extra>",
         "legendgroup": "",
         "marker": {
          "color": "#636efa",
          "symbol": "circle"
         },
         "mode": "markers",
         "name": "",
         "orientation": "v",
         "showlegend": false,
         "type": "scatter",
         "x": [
          1,
          2,
          3,
          4,
          5,
          8,
          9,
          14
         ],
         "xaxis": "x13",
         "y": [
          70485249069.4565,
          2708117627.61095,
          219176670.259614,
          11477588.68955,
          8751007.201544,
          1295058.146522,
          2413415.792932,
          1481951.7421679995
         ],
         "yaxis": "y13"
        },
        {
         "hovertemplate": "Cap_CIE=XII<br>Eventos=%{x}<br>Valor_Pagado=%{y}<extra></extra>",
         "legendgroup": "",
         "marker": {
          "color": "#636efa",
          "symbol": "circle"
         },
         "mode": "markers",
         "name": "",
         "orientation": "v",
         "showlegend": false,
         "type": "scatter",
         "x": [
          1,
          2,
          3,
          4,
          5,
          6,
          7
         ],
         "xaxis": "x14",
         "y": [
          23912484735.229378,
          559100100.453612,
          68975955.42774999,
          24692505.4462,
          6443378.949367999,
          530604.831982,
          812169.835842
         ],
         "yaxis": "y14"
        },
        {
         "hovertemplate": "Cap_CIE=XIII<br>Eventos=%{x}<br>Valor_Pagado=%{y}<extra></extra>",
         "legendgroup": "",
         "marker": {
          "color": "#636efa",
          "symbol": "circle"
         },
         "mode": "markers",
         "name": "",
         "orientation": "v",
         "showlegend": false,
         "type": "scatter",
         "x": [
          1,
          2,
          3,
          4,
          5,
          6,
          7,
          8,
          9
         ],
         "xaxis": "x15",
         "y": [
          77473400184.62224,
          1445119277.539402,
          157947635.218452,
          40097022.706888,
          14104444.721878,
          19183243.727857996,
          3449637.228204,
          2232395.044242,
          1531589.185518
         ],
         "yaxis": "y15"
        },
        {
         "hovertemplate": "Cap_CIE=XIV<br>Eventos=%{x}<br>Valor_Pagado=%{y}<extra></extra>",
         "legendgroup": "",
         "marker": {
          "color": "#636efa",
          "symbol": "circle"
         },
         "mode": "markers",
         "name": "",
         "orientation": "v",
         "showlegend": false,
         "type": "scatter",
         "x": [
          1,
          2,
          3,
          4,
          5,
          12
         ],
         "xaxis": "x6",
         "y": [
          72457467754.27945,
          2162941010.377442,
          164223790.46097398,
          19210764.823578,
          6931539.901848,
          2133488.49452
         ],
         "yaxis": "y6"
        },
        {
         "hovertemplate": "Cap_CIE=XIX<br>Eventos=%{x}<br>Valor_Pagado=%{y}<extra></extra>",
         "legendgroup": "",
         "marker": {
          "color": "#636efa",
          "symbol": "circle"
         },
         "mode": "markers",
         "name": "",
         "orientation": "v",
         "showlegend": false,
         "type": "scatter",
         "x": [
          1,
          2,
          3,
          4,
          5,
          6,
          8,
          9,
          10
         ],
         "xaxis": "x7",
         "y": [
          80565143336.71492,
          1465113228.952442,
          92453564.98103599,
          12866697.474476,
          5219434.786726,
          1832428.0520839998,
          1560092.010712,
          3050932.260472,
          3812543.07678
         ],
         "yaxis": "y7"
        },
        {
         "hovertemplate": "Cap_CIE=XV<br>Eventos=%{x}<br>Valor_Pagado=%{y}<extra></extra>",
         "legendgroup": "",
         "marker": {
          "color": "#636efa",
          "symbol": "circle"
         },
         "mode": "markers",
         "name": "",
         "orientation": "v",
         "showlegend": false,
         "type": "scatter",
         "x": [
          1,
          2,
          3,
          4,
          5
         ],
         "xaxis": "x8",
         "y": [
          30703459473.71573,
          391811288.12017,
          16652808.390751999,
          8139588.33614,
          6340050.875124
         ],
         "yaxis": "y8"
        },
        {
         "hovertemplate": "Cap_CIE=XVI<br>Eventos=%{x}<br>Valor_Pagado=%{y}<extra></extra>",
         "legendgroup": "",
         "marker": {
          "color": "#636efa",
          "symbol": "circle"
         },
         "mode": "markers",
         "name": "",
         "orientation": "v",
         "showlegend": false,
         "type": "scatter",
         "x": [
          1,
          2,
          3
         ],
         "xaxis": "x9",
         "y": [
          16164634404.21954,
          1057826044.2209259,
          1353815.965642
         ],
         "yaxis": "y9"
        },
        {
         "hovertemplate": "Cap_CIE=XVII<br>Eventos=%{x}<br>Valor_Pagado=%{y}<extra></extra>",
         "legendgroup": "",
         "marker": {
          "color": "#636efa",
          "symbol": "circle"
         },
         "mode": "markers",
         "name": "",
         "orientation": "v",
         "showlegend": false,
         "type": "scatter",
         "x": [
          1,
          2,
          3,
          5
         ],
         "xaxis": "x10",
         "y": [
          11716340146.25606,
          65969935.125194,
          55385000.009239994,
          4968361.027441999
         ],
         "yaxis": "y10"
        },
        {
         "hovertemplate": "Cap_CIE=XVIII<br>Eventos=%{x}<br>Valor_Pagado=%{y}<extra></extra>",
         "legendgroup": "",
         "marker": {
          "color": "#636efa",
          "symbol": "circle"
         },
         "mode": "markers",
         "name": "",
         "orientation": "v",
         "showlegend": false,
         "type": "scatter",
         "x": [
          1,
          2,
          3,
          4,
          5
         ],
         "xaxis": "x",
         "y": [
          80635426326.24013,
          2424058478.2445216,
          175501726.13975197,
          38882975.189261995,
          3214921.466148
         ],
         "yaxis": "y"
        },
        {
         "hovertemplate": "Cap_CIE=XX<br>Eventos=%{x}<br>Valor_Pagado=%{y}<extra></extra>",
         "legendgroup": "",
         "marker": {
          "color": "#636efa",
          "symbol": "circle"
         },
         "mode": "markers",
         "name": "",
         "orientation": "v",
         "showlegend": false,
         "type": "scatter",
         "x": [
          1,
          2,
          3,
          4,
          5,
          7
         ],
         "xaxis": "x2",
         "y": [
          2369270830.143242,
          26063013.994053997,
          915468.547218,
          960396.8536659998,
          2553479.230642,
          1402656.5684379998
         ],
         "yaxis": "y2"
        },
        {
         "hovertemplate": "Cap_CIE=XXI<br>Eventos=%{x}<br>Valor_Pagado=%{y}<extra></extra>",
         "legendgroup": "",
         "marker": {
          "color": "#636efa",
          "symbol": "circle"
         },
         "mode": "markers",
         "name": "",
         "orientation": "v",
         "showlegend": false,
         "type": "scatter",
         "x": [
          1,
          2,
          3,
          4,
          5,
          6,
          7,
          9
         ],
         "xaxis": "x3",
         "y": [
          99537096035.48582,
          11264130286.642334,
          2048015723.1915278,
          448923262.440008,
          87420504.502364,
          19325891.447558,
          8785783.48188,
          1198044.64342
         ],
         "yaxis": "y3"
        }
       ],
       "layout": {
        "annotations": [
         {
          "font": {},
          "showarrow": false,
          "text": "<b>XVIII</b>",
          "x": 0.09200000000000001,
          "xanchor": "center",
          "xref": "paper",
          "y": 0.144,
          "yanchor": "bottom",
          "yref": "paper"
         },
         {
          "font": {},
          "showarrow": false,
          "text": "<b>XX</b>",
          "x": 0.29600000000000004,
          "xanchor": "center",
          "xref": "paper",
          "y": 0.144,
          "yanchor": "bottom",
          "yref": "paper"
         },
         {
          "font": {},
          "showarrow": false,
          "text": "<b>XXI</b>",
          "x": 0.5,
          "xanchor": "center",
          "xref": "paper",
          "y": 0.144,
          "yanchor": "bottom",
          "yref": "paper"
         },
         {
          "font": {},
          "showarrow": false,
          "text": "<b>XIV</b>",
          "x": 0.09200000000000001,
          "xanchor": "center",
          "xref": "paper",
          "y": 0.358,
          "yanchor": "bottom",
          "yref": "paper"
         },
         {
          "font": {},
          "showarrow": false,
          "text": "<b>XIX</b>",
          "x": 0.29600000000000004,
          "xanchor": "center",
          "xref": "paper",
          "y": 0.358,
          "yanchor": "bottom",
          "yref": "paper"
         },
         {
          "font": {},
          "showarrow": false,
          "text": "<b>XV</b>",
          "x": 0.5,
          "xanchor": "center",
          "xref": "paper",
          "y": 0.358,
          "yanchor": "bottom",
          "yref": "paper"
         },
         {
          "font": {},
          "showarrow": false,
          "text": "<b>XVI</b>",
          "x": 0.7040000000000002,
          "xanchor": "center",
          "xref": "paper",
          "y": 0.358,
          "yanchor": "bottom",
          "yref": "paper"
         },
         {
          "font": {},
          "showarrow": false,
          "text": "<b>XVII</b>",
          "x": 0.908,
          "xanchor": "center",
          "xref": "paper",
          "y": 0.358,
          "yanchor": "bottom",
          "yref": "paper"
         },
         {
          "font": {},
          "showarrow": false,
          "text": "<b>VIII</b>",
          "x": 0.09200000000000001,
          "xanchor": "center",
          "xref": "paper",
          "y": 0.572,
          "yanchor": "bottom",
          "yref": "paper"
         },
         {
          "font": {},
          "showarrow": false,
          "text": "<b>X</b>",
          "x": 0.29600000000000004,
          "xanchor": "center",
          "xref": "paper",
          "y": 0.572,
          "yanchor": "bottom",
          "yref": "paper"
         },
         {
          "font": {},
          "showarrow": false,
          "text": "<b>XI</b>",
          "x": 0.5,
          "xanchor": "center",
          "xref": "paper",
          "y": 0.572,
          "yanchor": "bottom",
          "yref": "paper"
         },
         {
          "font": {},
          "showarrow": false,
          "text": "<b>XII</b>",
          "x": 0.7040000000000002,
          "xanchor": "center",
          "xref": "paper",
          "y": 0.572,
          "yanchor": "bottom",
          "yref": "paper"
         },
         {
          "font": {},
          "showarrow": false,
          "text": "<b>XIII</b>",
          "x": 0.908,
          "xanchor": "center",
          "xref": "paper",
          "y": 0.572,
          "yanchor": "bottom",
          "yref": "paper"
         },
         {
          "font": {},
          "showarrow": false,
          "text": "<b>Sin Diagnostico</b>",
          "x": 0.09200000000000001,
          "xanchor": "center",
          "xref": "paper",
          "y": 0.7859999999999999,
          "yanchor": "bottom",
          "yref": "paper"
         },
         {
          "font": {},
          "showarrow": false,
          "text": "<b>Sin info</b>",
          "x": 0.29600000000000004,
          "xanchor": "center",
          "xref": "paper",
          "y": 0.7859999999999999,
          "yanchor": "bottom",
          "yref": "paper"
         },
         {
          "font": {},
          "showarrow": false,
          "text": "<b>V</b>",
          "x": 0.5,
          "xanchor": "center",
          "xref": "paper",
          "y": 0.7859999999999999,
          "yanchor": "bottom",
          "yref": "paper"
         },
         {
          "font": {},
          "showarrow": false,
          "text": "<b>VI</b>",
          "x": 0.7040000000000002,
          "xanchor": "center",
          "xref": "paper",
          "y": 0.7859999999999999,
          "yanchor": "bottom",
          "yref": "paper"
         },
         {
          "font": {},
          "showarrow": false,
          "text": "<b>VII</b>",
          "x": 0.908,
          "xanchor": "center",
          "xref": "paper",
          "y": 0.7859999999999999,
          "yanchor": "bottom",
          "yref": "paper"
         },
         {
          "font": {},
          "showarrow": false,
          "text": "<b>I</b>",
          "x": 0.09200000000000001,
          "xanchor": "center",
          "xref": "paper",
          "y": 1,
          "yanchor": "bottom",
          "yref": "paper"
         },
         {
          "font": {},
          "showarrow": false,
          "text": "<b>II</b>",
          "x": 0.29600000000000004,
          "xanchor": "center",
          "xref": "paper",
          "y": 1,
          "yanchor": "bottom",
          "yref": "paper"
         },
         {
          "font": {},
          "showarrow": false,
          "text": "<b>III</b>",
          "x": 0.5,
          "xanchor": "center",
          "xref": "paper",
          "y": 1,
          "yanchor": "bottom",
          "yref": "paper"
         },
         {
          "font": {},
          "showarrow": false,
          "text": "<b>IV</b>",
          "x": 0.7040000000000002,
          "xanchor": "center",
          "xref": "paper",
          "y": 1,
          "yanchor": "bottom",
          "yref": "paper"
         },
         {
          "font": {},
          "showarrow": false,
          "text": "<b>IX</b>",
          "x": 0.908,
          "xanchor": "center",
          "xref": "paper",
          "y": 1,
          "yanchor": "bottom",
          "yref": "paper"
         }
        ],
        "height": 900,
        "legend": {
         "tracegroupgap": 0
        },
        "margin": {
         "t": 60
        },
        "template": {
         "data": {
          "bar": [
           {
            "error_x": {
             "color": "#2a3f5f"
            },
            "error_y": {
             "color": "#2a3f5f"
            },
            "marker": {
             "line": {
              "color": "white",
              "width": 0.5
             },
             "pattern": {
              "fillmode": "overlay",
              "size": 10,
              "solidity": 0.2
             }
            },
            "type": "bar"
           }
          ],
          "barpolar": [
           {
            "marker": {
             "line": {
              "color": "white",
              "width": 0.5
             },
             "pattern": {
              "fillmode": "overlay",
              "size": 10,
              "solidity": 0.2
             }
            },
            "type": "barpolar"
           }
          ],
          "carpet": [
           {
            "aaxis": {
             "endlinecolor": "#2a3f5f",
             "gridcolor": "#C8D4E3",
             "linecolor": "#C8D4E3",
             "minorgridcolor": "#C8D4E3",
             "startlinecolor": "#2a3f5f"
            },
            "baxis": {
             "endlinecolor": "#2a3f5f",
             "gridcolor": "#C8D4E3",
             "linecolor": "#C8D4E3",
             "minorgridcolor": "#C8D4E3",
             "startlinecolor": "#2a3f5f"
            },
            "type": "carpet"
           }
          ],
          "choropleth": [
           {
            "colorbar": {
             "outlinewidth": 0,
             "ticks": ""
            },
            "type": "choropleth"
           }
          ],
          "contour": [
           {
            "colorbar": {
             "outlinewidth": 0,
             "ticks": ""
            },
            "colorscale": [
             [
              0,
              "#0d0887"
             ],
             [
              0.1111111111111111,
              "#46039f"
             ],
             [
              0.2222222222222222,
              "#7201a8"
             ],
             [
              0.3333333333333333,
              "#9c179e"
             ],
             [
              0.4444444444444444,
              "#bd3786"
             ],
             [
              0.5555555555555556,
              "#d8576b"
             ],
             [
              0.6666666666666666,
              "#ed7953"
             ],
             [
              0.7777777777777778,
              "#fb9f3a"
             ],
             [
              0.8888888888888888,
              "#fdca26"
             ],
             [
              1,
              "#f0f921"
             ]
            ],
            "type": "contour"
           }
          ],
          "contourcarpet": [
           {
            "colorbar": {
             "outlinewidth": 0,
             "ticks": ""
            },
            "type": "contourcarpet"
           }
          ],
          "heatmap": [
           {
            "colorbar": {
             "outlinewidth": 0,
             "ticks": ""
            },
            "colorscale": [
             [
              0,
              "#0d0887"
             ],
             [
              0.1111111111111111,
              "#46039f"
             ],
             [
              0.2222222222222222,
              "#7201a8"
             ],
             [
              0.3333333333333333,
              "#9c179e"
             ],
             [
              0.4444444444444444,
              "#bd3786"
             ],
             [
              0.5555555555555556,
              "#d8576b"
             ],
             [
              0.6666666666666666,
              "#ed7953"
             ],
             [
              0.7777777777777778,
              "#fb9f3a"
             ],
             [
              0.8888888888888888,
              "#fdca26"
             ],
             [
              1,
              "#f0f921"
             ]
            ],
            "type": "heatmap"
           }
          ],
          "heatmapgl": [
           {
            "colorbar": {
             "outlinewidth": 0,
             "ticks": ""
            },
            "colorscale": [
             [
              0,
              "#0d0887"
             ],
             [
              0.1111111111111111,
              "#46039f"
             ],
             [
              0.2222222222222222,
              "#7201a8"
             ],
             [
              0.3333333333333333,
              "#9c179e"
             ],
             [
              0.4444444444444444,
              "#bd3786"
             ],
             [
              0.5555555555555556,
              "#d8576b"
             ],
             [
              0.6666666666666666,
              "#ed7953"
             ],
             [
              0.7777777777777778,
              "#fb9f3a"
             ],
             [
              0.8888888888888888,
              "#fdca26"
             ],
             [
              1,
              "#f0f921"
             ]
            ],
            "type": "heatmapgl"
           }
          ],
          "histogram": [
           {
            "marker": {
             "pattern": {
              "fillmode": "overlay",
              "size": 10,
              "solidity": 0.2
             }
            },
            "type": "histogram"
           }
          ],
          "histogram2d": [
           {
            "colorbar": {
             "outlinewidth": 0,
             "ticks": ""
            },
            "colorscale": [
             [
              0,
              "#0d0887"
             ],
             [
              0.1111111111111111,
              "#46039f"
             ],
             [
              0.2222222222222222,
              "#7201a8"
             ],
             [
              0.3333333333333333,
              "#9c179e"
             ],
             [
              0.4444444444444444,
              "#bd3786"
             ],
             [
              0.5555555555555556,
              "#d8576b"
             ],
             [
              0.6666666666666666,
              "#ed7953"
             ],
             [
              0.7777777777777778,
              "#fb9f3a"
             ],
             [
              0.8888888888888888,
              "#fdca26"
             ],
             [
              1,
              "#f0f921"
             ]
            ],
            "type": "histogram2d"
           }
          ],
          "histogram2dcontour": [
           {
            "colorbar": {
             "outlinewidth": 0,
             "ticks": ""
            },
            "colorscale": [
             [
              0,
              "#0d0887"
             ],
             [
              0.1111111111111111,
              "#46039f"
             ],
             [
              0.2222222222222222,
              "#7201a8"
             ],
             [
              0.3333333333333333,
              "#9c179e"
             ],
             [
              0.4444444444444444,
              "#bd3786"
             ],
             [
              0.5555555555555556,
              "#d8576b"
             ],
             [
              0.6666666666666666,
              "#ed7953"
             ],
             [
              0.7777777777777778,
              "#fb9f3a"
             ],
             [
              0.8888888888888888,
              "#fdca26"
             ],
             [
              1,
              "#f0f921"
             ]
            ],
            "type": "histogram2dcontour"
           }
          ],
          "mesh3d": [
           {
            "colorbar": {
             "outlinewidth": 0,
             "ticks": ""
            },
            "type": "mesh3d"
           }
          ],
          "parcoords": [
           {
            "line": {
             "colorbar": {
              "outlinewidth": 0,
              "ticks": ""
             }
            },
            "type": "parcoords"
           }
          ],
          "pie": [
           {
            "automargin": true,
            "type": "pie"
           }
          ],
          "scatter": [
           {
            "fillpattern": {
             "fillmode": "overlay",
             "size": 10,
             "solidity": 0.2
            },
            "type": "scatter"
           }
          ],
          "scatter3d": [
           {
            "line": {
             "colorbar": {
              "outlinewidth": 0,
              "ticks": ""
             }
            },
            "marker": {
             "colorbar": {
              "outlinewidth": 0,
              "ticks": ""
             }
            },
            "type": "scatter3d"
           }
          ],
          "scattercarpet": [
           {
            "marker": {
             "colorbar": {
              "outlinewidth": 0,
              "ticks": ""
             }
            },
            "type": "scattercarpet"
           }
          ],
          "scattergeo": [
           {
            "marker": {
             "colorbar": {
              "outlinewidth": 0,
              "ticks": ""
             }
            },
            "type": "scattergeo"
           }
          ],
          "scattergl": [
           {
            "marker": {
             "colorbar": {
              "outlinewidth": 0,
              "ticks": ""
             }
            },
            "type": "scattergl"
           }
          ],
          "scattermapbox": [
           {
            "marker": {
             "colorbar": {
              "outlinewidth": 0,
              "ticks": ""
             }
            },
            "type": "scattermapbox"
           }
          ],
          "scatterpolar": [
           {
            "marker": {
             "colorbar": {
              "outlinewidth": 0,
              "ticks": ""
             }
            },
            "type": "scatterpolar"
           }
          ],
          "scatterpolargl": [
           {
            "marker": {
             "colorbar": {
              "outlinewidth": 0,
              "ticks": ""
             }
            },
            "type": "scatterpolargl"
           }
          ],
          "scatterternary": [
           {
            "marker": {
             "colorbar": {
              "outlinewidth": 0,
              "ticks": ""
             }
            },
            "type": "scatterternary"
           }
          ],
          "surface": [
           {
            "colorbar": {
             "outlinewidth": 0,
             "ticks": ""
            },
            "colorscale": [
             [
              0,
              "#0d0887"
             ],
             [
              0.1111111111111111,
              "#46039f"
             ],
             [
              0.2222222222222222,
              "#7201a8"
             ],
             [
              0.3333333333333333,
              "#9c179e"
             ],
             [
              0.4444444444444444,
              "#bd3786"
             ],
             [
              0.5555555555555556,
              "#d8576b"
             ],
             [
              0.6666666666666666,
              "#ed7953"
             ],
             [
              0.7777777777777778,
              "#fb9f3a"
             ],
             [
              0.8888888888888888,
              "#fdca26"
             ],
             [
              1,
              "#f0f921"
             ]
            ],
            "type": "surface"
           }
          ],
          "table": [
           {
            "cells": {
             "fill": {
              "color": "#EBF0F8"
             },
             "line": {
              "color": "white"
             }
            },
            "header": {
             "fill": {
              "color": "#C8D4E3"
             },
             "line": {
              "color": "white"
             }
            },
            "type": "table"
           }
          ]
         },
         "layout": {
          "annotationdefaults": {
           "arrowcolor": "#2a3f5f",
           "arrowhead": 0,
           "arrowwidth": 1
          },
          "autotypenumbers": "strict",
          "coloraxis": {
           "colorbar": {
            "outlinewidth": 0,
            "ticks": ""
           }
          },
          "colorscale": {
           "diverging": [
            [
             0,
             "#8e0152"
            ],
            [
             0.1,
             "#c51b7d"
            ],
            [
             0.2,
             "#de77ae"
            ],
            [
             0.3,
             "#f1b6da"
            ],
            [
             0.4,
             "#fde0ef"
            ],
            [
             0.5,
             "#f7f7f7"
            ],
            [
             0.6,
             "#e6f5d0"
            ],
            [
             0.7,
             "#b8e186"
            ],
            [
             0.8,
             "#7fbc41"
            ],
            [
             0.9,
             "#4d9221"
            ],
            [
             1,
             "#276419"
            ]
           ],
           "sequential": [
            [
             0,
             "#0d0887"
            ],
            [
             0.1111111111111111,
             "#46039f"
            ],
            [
             0.2222222222222222,
             "#7201a8"
            ],
            [
             0.3333333333333333,
             "#9c179e"
            ],
            [
             0.4444444444444444,
             "#bd3786"
            ],
            [
             0.5555555555555556,
             "#d8576b"
            ],
            [
             0.6666666666666666,
             "#ed7953"
            ],
            [
             0.7777777777777778,
             "#fb9f3a"
            ],
            [
             0.8888888888888888,
             "#fdca26"
            ],
            [
             1,
             "#f0f921"
            ]
           ],
           "sequentialminus": [
            [
             0,
             "#0d0887"
            ],
            [
             0.1111111111111111,
             "#46039f"
            ],
            [
             0.2222222222222222,
             "#7201a8"
            ],
            [
             0.3333333333333333,
             "#9c179e"
            ],
            [
             0.4444444444444444,
             "#bd3786"
            ],
            [
             0.5555555555555556,
             "#d8576b"
            ],
            [
             0.6666666666666666,
             "#ed7953"
            ],
            [
             0.7777777777777778,
             "#fb9f3a"
            ],
            [
             0.8888888888888888,
             "#fdca26"
            ],
            [
             1,
             "#f0f921"
            ]
           ]
          },
          "colorway": [
           "#636efa",
           "#EF553B",
           "#00cc96",
           "#ab63fa",
           "#FFA15A",
           "#19d3f3",
           "#FF6692",
           "#B6E880",
           "#FF97FF",
           "#FECB52"
          ],
          "font": {
           "color": "#2a3f5f"
          },
          "geo": {
           "bgcolor": "white",
           "lakecolor": "white",
           "landcolor": "white",
           "showlakes": true,
           "showland": true,
           "subunitcolor": "#C8D4E3"
          },
          "hoverlabel": {
           "align": "left"
          },
          "hovermode": "closest",
          "mapbox": {
           "style": "light"
          },
          "paper_bgcolor": "white",
          "plot_bgcolor": "white",
          "polar": {
           "angularaxis": {
            "gridcolor": "#EBF0F8",
            "linecolor": "#EBF0F8",
            "ticks": ""
           },
           "bgcolor": "white",
           "radialaxis": {
            "gridcolor": "#EBF0F8",
            "linecolor": "#EBF0F8",
            "ticks": ""
           }
          },
          "scene": {
           "xaxis": {
            "backgroundcolor": "white",
            "gridcolor": "#DFE8F3",
            "gridwidth": 2,
            "linecolor": "#EBF0F8",
            "showbackground": true,
            "ticks": "",
            "zerolinecolor": "#EBF0F8"
           },
           "yaxis": {
            "backgroundcolor": "white",
            "gridcolor": "#DFE8F3",
            "gridwidth": 2,
            "linecolor": "#EBF0F8",
            "showbackground": true,
            "ticks": "",
            "zerolinecolor": "#EBF0F8"
           },
           "zaxis": {
            "backgroundcolor": "white",
            "gridcolor": "#DFE8F3",
            "gridwidth": 2,
            "linecolor": "#EBF0F8",
            "showbackground": true,
            "ticks": "",
            "zerolinecolor": "#EBF0F8"
           }
          },
          "shapedefaults": {
           "line": {
            "color": "#2a3f5f"
           }
          },
          "ternary": {
           "aaxis": {
            "gridcolor": "#DFE8F3",
            "linecolor": "#A2B1C6",
            "ticks": ""
           },
           "baxis": {
            "gridcolor": "#DFE8F3",
            "linecolor": "#A2B1C6",
            "ticks": ""
           },
           "bgcolor": "white",
           "caxis": {
            "gridcolor": "#DFE8F3",
            "linecolor": "#A2B1C6",
            "ticks": ""
           }
          },
          "title": {
           "x": 0.05
          },
          "xaxis": {
           "automargin": true,
           "gridcolor": "#EBF0F8",
           "linecolor": "#EBF0F8",
           "ticks": "",
           "title": {
            "standoff": 15
           },
           "zerolinecolor": "#EBF0F8",
           "zerolinewidth": 2
          },
          "yaxis": {
           "automargin": true,
           "gridcolor": "#EBF0F8",
           "linecolor": "#EBF0F8",
           "ticks": "",
           "title": {
            "standoff": 15
           },
           "zerolinecolor": "#EBF0F8",
           "zerolinewidth": 2
          }
         }
        },
        "width": 1456.2305898749055,
        "xaxis": {
         "anchor": "y",
         "autorange": true,
         "domain": [
          0,
          0.18400000000000002
         ],
         "range": [
          -21.112753334337594,
          300.1127533343376
         ],
         "title": {
          "text": "Eventos"
         },
         "type": "linear"
        },
        "xaxis10": {
         "anchor": "y10",
         "autorange": true,
         "domain": [
          0.8160000000000001,
          1
         ],
         "matches": "x",
         "range": [
          -21.112753334337594,
          300.1127533343376
         ],
         "showticklabels": false,
         "type": "linear"
        },
        "xaxis11": {
         "anchor": "y11",
         "autorange": true,
         "domain": [
          0,
          0.18400000000000002
         ],
         "matches": "x",
         "range": [
          -21.112753334337594,
          300.1127533343376
         ],
         "showticklabels": false,
         "type": "linear"
        },
        "xaxis12": {
         "anchor": "y12",
         "autorange": true,
         "domain": [
          0.20400000000000001,
          0.388
         ],
         "matches": "x",
         "range": [
          -21.112753334337594,
          300.1127533343376
         ],
         "showticklabels": false,
         "type": "linear"
        },
        "xaxis13": {
         "anchor": "y13",
         "autorange": true,
         "domain": [
          0.40800000000000003,
          0.5920000000000001
         ],
         "matches": "x",
         "range": [
          -21.112753334337594,
          300.1127533343376
         ],
         "showticklabels": false,
         "type": "linear"
        },
        "xaxis14": {
         "anchor": "y14",
         "autorange": true,
         "domain": [
          0.6120000000000001,
          0.7960000000000002
         ],
         "matches": "x",
         "range": [
          -21.112753334337594,
          300.1127533343376
         ],
         "showticklabels": false,
         "type": "linear"
        },
        "xaxis15": {
         "anchor": "y15",
         "autorange": true,
         "domain": [
          0.8160000000000001,
          1
         ],
         "matches": "x",
         "range": [
          -21.112753334337594,
          300.1127533343376
         ],
         "showticklabels": false,
         "type": "linear"
        },
        "xaxis16": {
         "anchor": "y16",
         "autorange": true,
         "domain": [
          0,
          0.18400000000000002
         ],
         "matches": "x",
         "range": [
          -21.112753334337594,
          300.1127533343376
         ],
         "showticklabels": false,
         "type": "linear"
        },
        "xaxis17": {
         "anchor": "y17",
         "autorange": true,
         "domain": [
          0.20400000000000001,
          0.388
         ],
         "matches": "x",
         "range": [
          -21.112753334337594,
          300.1127533343376
         ],
         "showticklabels": false,
         "type": "linear"
        },
        "xaxis18": {
         "anchor": "y18",
         "autorange": true,
         "domain": [
          0.40800000000000003,
          0.5920000000000001
         ],
         "matches": "x",
         "range": [
          -21.112753334337594,
          300.1127533343376
         ],
         "showticklabels": false,
         "type": "linear"
        },
        "xaxis19": {
         "anchor": "y19",
         "autorange": true,
         "domain": [
          0.6120000000000001,
          0.7960000000000002
         ],
         "matches": "x",
         "range": [
          -21.112753334337594,
          300.1127533343376
         ],
         "showticklabels": false,
         "type": "linear"
        },
        "xaxis2": {
         "anchor": "y2",
         "autorange": true,
         "domain": [
          0.20400000000000001,
          0.388
         ],
         "matches": "x",
         "range": [
          -21.112753334337594,
          300.1127533343376
         ],
         "title": {
          "text": "Eventos"
         },
         "type": "linear"
        },
        "xaxis20": {
         "anchor": "y20",
         "autorange": true,
         "domain": [
          0.8160000000000001,
          1
         ],
         "matches": "x",
         "range": [
          -21.112753334337594,
          300.1127533343376
         ],
         "showticklabels": false,
         "type": "linear"
        },
        "xaxis21": {
         "anchor": "y21",
         "autorange": true,
         "domain": [
          0,
          0.18400000000000002
         ],
         "matches": "x",
         "range": [
          -21.112753334337594,
          300.1127533343376
         ],
         "showticklabels": false,
         "type": "linear"
        },
        "xaxis22": {
         "anchor": "y22",
         "autorange": true,
         "domain": [
          0.20400000000000001,
          0.388
         ],
         "matches": "x",
         "range": [
          -21.112753334337594,
          300.1127533343376
         ],
         "showticklabels": false,
         "type": "linear"
        },
        "xaxis23": {
         "anchor": "y23",
         "autorange": true,
         "domain": [
          0.40800000000000003,
          0.5920000000000001
         ],
         "matches": "x",
         "range": [
          -21.112753334337594,
          300.1127533343376
         ],
         "showticklabels": false,
         "type": "linear"
        },
        "xaxis24": {
         "anchor": "y24",
         "autorange": true,
         "domain": [
          0.6120000000000001,
          0.7960000000000002
         ],
         "matches": "x",
         "range": [
          -21.112753334337594,
          300.1127533343376
         ],
         "showticklabels": false,
         "type": "linear"
        },
        "xaxis25": {
         "anchor": "y25",
         "autorange": true,
         "domain": [
          0.8160000000000001,
          1
         ],
         "matches": "x",
         "range": [
          -21.112753334337594,
          300.1127533343376
         ],
         "showticklabels": false,
         "type": "linear"
        },
        "xaxis3": {
         "anchor": "y3",
         "autorange": true,
         "domain": [
          0.40800000000000003,
          0.5920000000000001
         ],
         "matches": "x",
         "range": [
          -21.112753334337594,
          300.1127533343376
         ],
         "title": {
          "text": "Eventos"
         },
         "type": "linear"
        },
        "xaxis4": {
         "anchor": "y4",
         "domain": [
          0.6120000000000001,
          0.7960000000000002
         ],
         "matches": "x",
         "title": {
          "text": "Eventos"
         }
        },
        "xaxis5": {
         "anchor": "y5",
         "domain": [
          0.8160000000000001,
          1
         ],
         "matches": "x",
         "title": {
          "text": "Eventos"
         }
        },
        "xaxis6": {
         "anchor": "y6",
         "autorange": true,
         "domain": [
          0,
          0.18400000000000002
         ],
         "matches": "x",
         "range": [
          -21.112753334337594,
          300.1127533343376
         ],
         "showticklabels": false,
         "type": "linear"
        },
        "xaxis7": {
         "anchor": "y7",
         "autorange": true,
         "domain": [
          0.20400000000000001,
          0.388
         ],
         "matches": "x",
         "range": [
          -21.112753334337594,
          300.1127533343376
         ],
         "showticklabels": false,
         "type": "linear"
        },
        "xaxis8": {
         "anchor": "y8",
         "autorange": true,
         "domain": [
          0.40800000000000003,
          0.5920000000000001
         ],
         "matches": "x",
         "range": [
          -21.112753334337594,
          300.1127533343376
         ],
         "showticklabels": false,
         "type": "linear"
        },
        "xaxis9": {
         "anchor": "y9",
         "autorange": true,
         "domain": [
          0.6120000000000001,
          0.7960000000000002
         ],
         "matches": "x",
         "range": [
          -21.112753334337594,
          300.1127533343376
         ],
         "showticklabels": false,
         "type": "linear"
        },
        "yaxis": {
         "anchor": "x",
         "autorange": true,
         "domain": [
          0,
          0.144
         ],
         "range": [
          -96264398603.86758,
          1046137486209.3804
         ],
         "title": {
          "text": "Valor_Pagado"
         },
         "type": "linear"
        },
        "yaxis10": {
         "anchor": "x10",
         "autorange": true,
         "domain": [
          0.214,
          0.358
         ],
         "matches": "y",
         "range": [
          -96264398603.86758,
          1046137486209.3804
         ],
         "showticklabels": false,
         "type": "linear"
        },
        "yaxis11": {
         "anchor": "x11",
         "autorange": true,
         "domain": [
          0.428,
          0.572
         ],
         "matches": "y",
         "range": [
          -96264398603.86758,
          1046137486209.3804
         ],
         "title": {
          "text": "Valor_Pagado"
         },
         "type": "linear"
        },
        "yaxis12": {
         "anchor": "x12",
         "autorange": true,
         "domain": [
          0.428,
          0.572
         ],
         "matches": "y",
         "range": [
          -96264398603.86758,
          1046137486209.3804
         ],
         "showticklabels": false,
         "type": "linear"
        },
        "yaxis13": {
         "anchor": "x13",
         "autorange": true,
         "domain": [
          0.428,
          0.572
         ],
         "matches": "y",
         "range": [
          -96264398603.86758,
          1046137486209.3804
         ],
         "showticklabels": false,
         "type": "linear"
        },
        "yaxis14": {
         "anchor": "x14",
         "autorange": true,
         "domain": [
          0.428,
          0.572
         ],
         "matches": "y",
         "range": [
          -96264398603.86758,
          1046137486209.3804
         ],
         "showticklabels": false,
         "type": "linear"
        },
        "yaxis15": {
         "anchor": "x15",
         "autorange": true,
         "domain": [
          0.428,
          0.572
         ],
         "matches": "y",
         "range": [
          -96264398603.86758,
          1046137486209.3804
         ],
         "showticklabels": false,
         "type": "linear"
        },
        "yaxis16": {
         "anchor": "x16",
         "autorange": true,
         "domain": [
          0.6419999999999999,
          0.7859999999999999
         ],
         "matches": "y",
         "range": [
          -96264398603.86758,
          1046137486209.3804
         ],
         "title": {
          "text": "Valor_Pagado"
         },
         "type": "linear"
        },
        "yaxis17": {
         "anchor": "x17",
         "autorange": true,
         "domain": [
          0.6419999999999999,
          0.7859999999999999
         ],
         "matches": "y",
         "range": [
          -96264398603.86758,
          1046137486209.3804
         ],
         "showticklabels": false,
         "type": "linear"
        },
        "yaxis18": {
         "anchor": "x18",
         "autorange": true,
         "domain": [
          0.6419999999999999,
          0.7859999999999999
         ],
         "matches": "y",
         "range": [
          -96264398603.86758,
          1046137486209.3804
         ],
         "showticklabels": false,
         "type": "linear"
        },
        "yaxis19": {
         "anchor": "x19",
         "autorange": true,
         "domain": [
          0.6419999999999999,
          0.7859999999999999
         ],
         "matches": "y",
         "range": [
          -96264398603.86758,
          1046137486209.3804
         ],
         "showticklabels": false,
         "type": "linear"
        },
        "yaxis2": {
         "anchor": "x2",
         "autorange": true,
         "domain": [
          0,
          0.144
         ],
         "matches": "y",
         "range": [
          -96264398603.86758,
          1046137486209.3804
         ],
         "showticklabels": false,
         "type": "linear"
        },
        "yaxis20": {
         "anchor": "x20",
         "autorange": true,
         "domain": [
          0.6419999999999999,
          0.7859999999999999
         ],
         "matches": "y",
         "range": [
          -96264398603.86758,
          1046137486209.3804
         ],
         "showticklabels": false,
         "type": "linear"
        },
        "yaxis21": {
         "anchor": "x21",
         "autorange": true,
         "domain": [
          0.856,
          1
         ],
         "matches": "y",
         "range": [
          -96264398603.86758,
          1046137486209.3804
         ],
         "title": {
          "text": "Valor_Pagado"
         },
         "type": "linear"
        },
        "yaxis22": {
         "anchor": "x22",
         "autorange": true,
         "domain": [
          0.856,
          1
         ],
         "matches": "y",
         "range": [
          -96264398603.86758,
          1046137486209.3804
         ],
         "showticklabels": false,
         "type": "linear"
        },
        "yaxis23": {
         "anchor": "x23",
         "autorange": true,
         "domain": [
          0.856,
          1
         ],
         "matches": "y",
         "range": [
          -96264398603.86758,
          1046137486209.3804
         ],
         "showticklabels": false,
         "type": "linear"
        },
        "yaxis24": {
         "anchor": "x24",
         "autorange": true,
         "domain": [
          0.856,
          1
         ],
         "matches": "y",
         "range": [
          -96264398603.86758,
          1046137486209.3804
         ],
         "showticklabels": false,
         "type": "linear"
        },
        "yaxis25": {
         "anchor": "x25",
         "autorange": true,
         "domain": [
          0.856,
          1
         ],
         "matches": "y",
         "range": [
          -96264398603.86758,
          1046137486209.3804
         ],
         "showticklabels": false,
         "type": "linear"
        },
        "yaxis3": {
         "anchor": "x3",
         "autorange": true,
         "domain": [
          0,
          0.144
         ],
         "matches": "y",
         "range": [
          -96264398603.86758,
          1046137486209.3804
         ],
         "showticklabels": false,
         "type": "linear"
        },
        "yaxis4": {
         "anchor": "x4",
         "domain": [
          0,
          0.144
         ],
         "matches": "y",
         "showticklabels": false
        },
        "yaxis5": {
         "anchor": "x5",
         "domain": [
          0,
          0.144
         ],
         "matches": "y",
         "showticklabels": false
        },
        "yaxis6": {
         "anchor": "x6",
         "autorange": true,
         "domain": [
          0.214,
          0.358
         ],
         "matches": "y",
         "range": [
          -96264398603.86758,
          1046137486209.3804
         ],
         "title": {
          "text": "Valor_Pagado"
         },
         "type": "linear"
        },
        "yaxis7": {
         "anchor": "x7",
         "autorange": true,
         "domain": [
          0.214,
          0.358
         ],
         "matches": "y",
         "range": [
          -96264398603.86758,
          1046137486209.3804
         ],
         "showticklabels": false,
         "type": "linear"
        },
        "yaxis8": {
         "anchor": "x8",
         "autorange": true,
         "domain": [
          0.214,
          0.358
         ],
         "matches": "y",
         "range": [
          -96264398603.86758,
          1046137486209.3804
         ],
         "showticklabels": false,
         "type": "linear"
        },
        "yaxis9": {
         "anchor": "x9",
         "autorange": true,
         "domain": [
          0.214,
          0.358
         ],
         "matches": "y",
         "range": [
          -96264398603.86758,
          1046137486209.3804
         ],
         "showticklabels": false,
         "type": "linear"
        }
       }
      },
      "image/png": "[encoded data removed]",
      "text/html": [
       "<div>                            <div id=\"2cde9d21-6f88-4f09-86e0-f934557b4aac\" class=\"plotly-graph-div\" style=\"height:900px; width:1456.2305898749055px;\"></div>            <script type=\"text/javascript\">                require([\"plotly\"], function(Plotly) {                    window.PLOTLYENV=window.PLOTLYENV || {};                                    if (document.getElementById(\"2cde9d21-6f88-4f09-86e0-f934557b4aac\")) {                    Plotly.newPlot(                        \"2cde9d21-6f88-4f09-86e0-f934557b4aac\",                        [{\"hovertemplate\":\"Cap_CIE=I\\u003cbr\\u003eEventos=%{x}\\u003cbr\\u003eValor_Pagado=%{y}\\u003cextra\\u003e\\u003c\\u002fextra\\u003e\",\"legendgroup\":\"\",\"marker\":{\"color\":\"#636efa\",\"symbol\":\"circle\"},\"mode\":\"markers\",\"name\":\"\",\"orientation\":\"v\",\"showlegend\":false,\"x\":[1,2,3,4],\"xaxis\":\"x21\",\"y\":[24821403790.0441,472638973.45693,38377734.306917995,1678128.603642],\"yaxis\":\"y21\",\"type\":\"scatter\"},{\"hovertemplate\":\"Cap_CIE=II\\u003cbr\\u003eEventos=%{x}\\u003cbr\\u003eValor_Pagado=%{y}\\u003cextra\\u003e\\u003c\\u002fextra\\u003e\",\"legendgroup\":\"\",\"marker\":{\"color\":\"#636efa\",\"symbol\":\"circle\"},\"mode\":\"markers\",\"name\":\"\",\"orientation\":\"v\",\"showlegend\":false,\"x\":[1,2,3,4,5,6],\"xaxis\":\"x22\",\"y\":[83755017353.15436,4696530249.888878,514370373.50173795,28850388.586702,7407162.715642,5468285.290224],\"yaxis\":\"y22\",\"type\":\"scatter\"},{\"hovertemplate\":\"Cap_CIE=III\\u003cbr\\u003eEventos=%{x}\\u003cbr\\u003eValor_Pagado=%{y}\\u003cextra\\u003e\\u003c\\u002fextra\\u003e\",\"legendgroup\":\"\",\"marker\":{\"color\":\"#636efa\",\"symbol\":\"circle\"},\"mode\":\"markers\",\"name\":\"\",\"orientation\":\"v\",\"showlegend\":false,\"x\":[1,2],\"xaxis\":\"x23\",\"y\":[4761136476.07031,13686269.282658],\"yaxis\":\"y23\",\"type\":\"scatter\"},{\"hovertemplate\":\"Cap_CIE=IV\\u003cbr\\u003eEventos=%{x}\\u003cbr\\u003eValor_Pagado=%{y}\\u003cextra\\u003e\\u003c\\u002fextra\\u003e\",\"legendgroup\":\"\",\"marker\":{\"color\":\"#636efa\",\"symbol\":\"circle\"},\"mode\":\"markers\",\"name\":\"\",\"orientation\":\"v\",\"showlegend\":false,\"x\":[1,2,3,4,5,6,7,8,9,10,11,12,13,14,16,17,20],\"xaxis\":\"x24\",\"y\":[26434512444.019165,4460584748.654079,957299738.1126139,260104972.507134,76192818.57123199,27976464.461436,17062730.713738,17031288.523456,11883657.441923998,7853189.459748,2343505.147666,5493807.674254,5187129.719380001,1047846.802642,4812054.082403999,4009937.9449940003,1152254.9273859998],\"yaxis\":\"y24\",\"type\":\"scatter\"},{\"hovertemplate\":\"Cap_CIE=IX\\u003cbr\\u003eEventos=%{x}\\u003cbr\\u003eValor_Pagado=%{y}\\u003cextra\\u003e\\u003c\\u002fextra\\u003e\",\"legendgroup\":\"\",\"marker\":{\"color\":\"#636efa\",\"symbol\":\"circle\"},\"mode\":\"markers\",\"name\":\"\",\"orientation\":\"v\",\"showlegend\":false,\"x\":[1,2,3,4,5,6,7,8],\"xaxis\":\"x25\",\"y\":[62202793612.0459,2617005682.8441358,189544306.537972,30260890.392338,4349003.152636,4253787.310084,1205117.88738,1306300.4954799998],\"yaxis\":\"y25\",\"type\":\"scatter\"},{\"hovertemplate\":\"Cap_CIE=Sin Diagnostico\\u003cbr\\u003eEventos=%{x}\\u003cbr\\u003eValor_Pagado=%{y}\\u003cextra\\u003e\\u003c\\u002fextra\\u003e\",\"legendgroup\":\"\",\"marker\":{\"color\":\"#636efa\",\"symbol\":\"circle\"},\"mode\":\"markers\",\"name\":\"\",\"orientation\":\"v\",\"showlegend\":false,\"x\":[0,1,2,3,4,5,6,7,8,9,10,11,12,13,14,15,16,17,18,19,20,21,22,23,24,25,26,27,28,29,30,31,32,33,34,35,36,37,38,39,40,41,42,43,44,45,46,47,48,49,50,51,52,53,54,55,56,57,58,59,60,61,62,63,64,65,66,67,68,69,70,71,72,73,74,75,76,77,78,79,80,81,83,84,85,86,88,89,90,91,94,95,96,97,98,100,101,102,103,104,105,107,108,110,111,112,113,114,115,116,117,120,122,123,128,130,132,136,137,140,141,143,145,146,149,154,167,168,176,181,184,196,199,201,202,210,213,215,220,224,254,279],\"xaxis\":\"x16\",\"y\":[1748273664.7387578,949872590542.8254,284743122432.17316,101634157653.70348,47080436803.60212,26379642141.111515,19283655445.30776,14176843088.492403,13937022309.61289,12079953897.550436,16146846368.933132,11241701714.176043,11754152009.151247,10456507093.748302,10510719217.497143,9923601082.954596,9186500374.893263,7807374347.498874,7013133426.481529,5845842756.704324,6218192367.34482,3964955476.077038,3547980535.631742,2864185178.3499618,2630742010.235654,1983445666.2076058,1526180500.6019058,1269337701.939972,1210631910.4789,861751210.192358,1020968592.8627579,546228255.9881619,493227361.63413996,419912047.25263,368960264.429586,307466182.569784,270621547.536478,207820311.102346,196573289.681086,223100469.854918,247733673.10089198,143189627.170412,104977161.72329399,81877188.369782,94779045.14965999,71268048.74488999,55450542.138849996,45336685.183749996,80778662.194448,48171598.81271,85499408.27498199,67080835.021791995,46186507.523538,38908066.108144,85719107.347972,39070439.627196,41354673.325134,49359749.64625999,46496970.124136,23692615.804635998,50369010.64891,13271966.464647999,18614638.573028,12217121.259424,14381689.470506,16046886.631396,33852878.776606,4089262.4682839997,9481871.385526,4586297.266884,27045461.12557,4037166.999284,9928696.424356,18899062.210723996,9487221.816968001,4116117.315684,19049510.996894,15056507.754673999,3746312.859684,8910954.932883998,8681869.890568,8213800.166077999,4286130.505241999,4837236.004884,10322375.273284,11270794.578168001,2546576.220784,6059131.5615840005,2646370.588042,7869971.531502,5276305.422483999,2530439.826042,6438785.72992,3455978.2006419995,4728133.418017999,28102749.675009996,6670725.036908,15135547.593886,2953118.98186,2973031.1908419994,2874856.912642,6889729.972842,4560074.902502,6587203.519884,6158846.691684,3198876.055042,21952373.219763998,639770.5204019999,11618108.459686,1605928.686042,2262184.847642,21450745.248294,5215082.240324,6573121.600996001,3354575.470842,3309964.139642,3732363.007162,3758322.692982,1529694.67142,4677653.635642,5025513.432284,4840966.33396,3592600.4024419994,7349542.205279999,23651997.427842,7700285.582883999,4146558.672662,4955887.464442,2769932.235642,6796691.867641999,7640931.961042,5338605.726842,622551.1335499999,497062.687336,1576648.097508,602467.2296419999,716035.3520619998,1044088.591484,764770.296442,513831.558442,7024737.948842,6697490.354842],\"yaxis\":\"y16\",\"type\":\"scatter\"},{\"hovertemplate\":\"Cap_CIE=Sin info\\u003cbr\\u003eEventos=%{x}\\u003cbr\\u003eValor_Pagado=%{y}\\u003cextra\\u003e\\u003c\\u002fextra\\u003e\",\"legendgroup\":\"\",\"marker\":{\"color\":\"#636efa\",\"symbol\":\"circle\"},\"mode\":\"markers\",\"name\":\"\",\"orientation\":\"v\",\"showlegend\":false,\"x\":[1,2,3,4,5,6,7],\"xaxis\":\"x17\",\"y\":[71545843685.91948,7221076588.581555,989603902.4028759,99551234.97926599,13550934.012486,2520460.975642,14650579.846917998],\"yaxis\":\"y17\",\"type\":\"scatter\"},{\"hovertemplate\":\"Cap_CIE=V\\u003cbr\\u003eEventos=%{x}\\u003cbr\\u003eValor_Pagado=%{y}\\u003cextra\\u003e\\u003c\\u002fextra\\u003e\",\"legendgroup\":\"\",\"marker\":{\"color\":\"#636efa\",\"symbol\":\"circle\"},\"mode\":\"markers\",\"name\":\"\",\"orientation\":\"v\",\"showlegend\":false,\"x\":[1,2,3,4,5,6,10],\"xaxis\":\"x18\",\"y\":[9379173198.107153,365412859.63111395,65130411.35304399,2405484.074342,11091348.426717998,2731484.312042,4088621.173744],\"yaxis\":\"y18\",\"type\":\"scatter\"},{\"hovertemplate\":\"Cap_CIE=VI\\u003cbr\\u003eEventos=%{x}\\u003cbr\\u003eValor_Pagado=%{y}\\u003cextra\\u003e\\u003c\\u002fextra\\u003e\",\"legendgroup\":\"\",\"marker\":{\"color\":\"#636efa\",\"symbol\":\"circle\"},\"mode\":\"markers\",\"name\":\"\",\"orientation\":\"v\",\"showlegend\":false,\"x\":[1,2,3,4,5,6,7,8,11,19],\"xaxis\":\"x19\",\"y\":[24848383889.495102,967568792.0742599,99755850.258442,31938657.989738,14210327.695281997,10453698.425334,4375174.14198,1856339.131962,2794452.325544,2020457.469048],\"yaxis\":\"y19\",\"type\":\"scatter\"},{\"hovertemplate\":\"Cap_CIE=VII\\u003cbr\\u003eEventos=%{x}\\u003cbr\\u003eValor_Pagado=%{y}\\u003cextra\\u003e\\u003c\\u002fextra\\u003e\",\"legendgroup\":\"\",\"marker\":{\"color\":\"#636efa\",\"symbol\":\"circle\"},\"mode\":\"markers\",\"name\":\"\",\"orientation\":\"v\",\"showlegend\":false,\"x\":[1,2,3,4,5,6],\"xaxis\":\"x20\",\"y\":[35761647663.42042,5897279904.95964,178436036.67566797,23719475.194204,7291020.683387999,659376.0264819999],\"yaxis\":\"y20\",\"type\":\"scatter\"},{\"hovertemplate\":\"Cap_CIE=VIII\\u003cbr\\u003eEventos=%{x}\\u003cbr\\u003eValor_Pagado=%{y}\\u003cextra\\u003e\\u003c\\u002fextra\\u003e\",\"legendgroup\":\"\",\"marker\":{\"color\":\"#636efa\",\"symbol\":\"circle\"},\"mode\":\"markers\",\"name\":\"\",\"orientation\":\"v\",\"showlegend\":false,\"x\":[1,2,3,4],\"xaxis\":\"x11\",\"y\":[8178471972.150778,220614005.99533397,42939442.552358,17267501.099764],\"yaxis\":\"y11\",\"type\":\"scatter\"},{\"hovertemplate\":\"Cap_CIE=X\\u003cbr\\u003eEventos=%{x}\\u003cbr\\u003eValor_Pagado=%{y}\\u003cextra\\u003e\\u003c\\u002fextra\\u003e\",\"legendgroup\":\"\",\"marker\":{\"color\":\"#636efa\",\"symbol\":\"circle\"},\"mode\":\"markers\",\"name\":\"\",\"orientation\":\"v\",\"showlegend\":false,\"x\":[1,2,3,4,7],\"xaxis\":\"x12\",\"y\":[75684538913.24812,1443787986.5625799,25009878.374084,4893704.571632,1186036.2709459998],\"yaxis\":\"y12\",\"type\":\"scatter\"},{\"hovertemplate\":\"Cap_CIE=XI\\u003cbr\\u003eEventos=%{x}\\u003cbr\\u003eValor_Pagado=%{y}\\u003cextra\\u003e\\u003c\\u002fextra\\u003e\",\"legendgroup\":\"\",\"marker\":{\"color\":\"#636efa\",\"symbol\":\"circle\"},\"mode\":\"markers\",\"name\":\"\",\"orientation\":\"v\",\"showlegend\":false,\"x\":[1,2,3,4,5,8,9,14],\"xaxis\":\"x13\",\"y\":[70485249069.4565,2708117627.61095,219176670.259614,11477588.68955,8751007.201544,1295058.146522,2413415.792932,1481951.7421679995],\"yaxis\":\"y13\",\"type\":\"scatter\"},{\"hovertemplate\":\"Cap_CIE=XII\\u003cbr\\u003eEventos=%{x}\\u003cbr\\u003eValor_Pagado=%{y}\\u003cextra\\u003e\\u003c\\u002fextra\\u003e\",\"legendgroup\":\"\",\"marker\":{\"color\":\"#636efa\",\"symbol\":\"circle\"},\"mode\":\"markers\",\"name\":\"\",\"orientation\":\"v\",\"showlegend\":false,\"x\":[1,2,3,4,5,6,7],\"xaxis\":\"x14\",\"y\":[23912484735.229378,559100100.453612,68975955.42774999,24692505.4462,6443378.949367999,530604.831982,812169.835842],\"yaxis\":\"y14\",\"type\":\"scatter\"},{\"hovertemplate\":\"Cap_CIE=XIII\\u003cbr\\u003eEventos=%{x}\\u003cbr\\u003eValor_Pagado=%{y}\\u003cextra\\u003e\\u003c\\u002fextra\\u003e\",\"legendgroup\":\"\",\"marker\":{\"color\":\"#636efa\",\"symbol\":\"circle\"},\"mode\":\"markers\",\"name\":\"\",\"orientation\":\"v\",\"showlegend\":false,\"x\":[1,2,3,4,5,6,7,8,9],\"xaxis\":\"x15\",\"y\":[77473400184.62224,1445119277.539402,157947635.218452,40097022.706888,14104444.721878,19183243.727857996,3449637.228204,2232395.044242,1531589.185518],\"yaxis\":\"y15\",\"type\":\"scatter\"},{\"hovertemplate\":\"Cap_CIE=XIV\\u003cbr\\u003eEventos=%{x}\\u003cbr\\u003eValor_Pagado=%{y}\\u003cextra\\u003e\\u003c\\u002fextra\\u003e\",\"legendgroup\":\"\",\"marker\":{\"color\":\"#636efa\",\"symbol\":\"circle\"},\"mode\":\"markers\",\"name\":\"\",\"orientation\":\"v\",\"showlegend\":false,\"x\":[1,2,3,4,5,12],\"xaxis\":\"x6\",\"y\":[72457467754.27945,2162941010.377442,164223790.46097398,19210764.823578,6931539.901848,2133488.49452],\"yaxis\":\"y6\",\"type\":\"scatter\"},{\"hovertemplate\":\"Cap_CIE=XIX\\u003cbr\\u003eEventos=%{x}\\u003cbr\\u003eValor_Pagado=%{y}\\u003cextra\\u003e\\u003c\\u002fextra\\u003e\",\"legendgroup\":\"\",\"marker\":{\"color\":\"#636efa\",\"symbol\":\"circle\"},\"mode\":\"markers\",\"name\":\"\",\"orientation\":\"v\",\"showlegend\":false,\"x\":[1,2,3,4,5,6,8,9,10],\"xaxis\":\"x7\",\"y\":[80565143336.71492,1465113228.952442,92453564.98103599,12866697.474476,5219434.786726,1832428.0520839998,1560092.010712,3050932.260472,3812543.07678],\"yaxis\":\"y7\",\"type\":\"scatter\"},{\"hovertemplate\":\"Cap_CIE=XV\\u003cbr\\u003eEventos=%{x}\\u003cbr\\u003eValor_Pagado=%{y}\\u003cextra\\u003e\\u003c\\u002fextra\\u003e\",\"legendgroup\":\"\",\"marker\":{\"color\":\"#636efa\",\"symbol\":\"circle\"},\"mode\":\"markers\",\"name\":\"\",\"orientation\":\"v\",\"showlegend\":false,\"x\":[1,2,3,4,5],\"xaxis\":\"x8\",\"y\":[30703459473.71573,391811288.12017,16652808.390751999,8139588.33614,6340050.875124],\"yaxis\":\"y8\",\"type\":\"scatter\"},{\"hovertemplate\":\"Cap_CIE=XVI\\u003cbr\\u003eEventos=%{x}\\u003cbr\\u003eValor_Pagado=%{y}\\u003cextra\\u003e\\u003c\\u002fextra\\u003e\",\"legendgroup\":\"\",\"marker\":{\"color\":\"#636efa\",\"symbol\":\"circle\"},\"mode\":\"markers\",\"name\":\"\",\"orientation\":\"v\",\"showlegend\":false,\"x\":[1,2,3],\"xaxis\":\"x9\",\"y\":[16164634404.21954,1057826044.2209259,1353815.965642],\"yaxis\":\"y9\",\"type\":\"scatter\"},{\"hovertemplate\":\"Cap_CIE=XVII\\u003cbr\\u003eEventos=%{x}\\u003cbr\\u003eValor_Pagado=%{y}\\u003cextra\\u003e\\u003c\\u002fextra\\u003e\",\"legendgroup\":\"\",\"marker\":{\"color\":\"#636efa\",\"symbol\":\"circle\"},\"mode\":\"markers\",\"name\":\"\",\"orientation\":\"v\",\"showlegend\":false,\"x\":[1,2,3,5],\"xaxis\":\"x10\",\"y\":[11716340146.25606,65969935.125194,55385000.009239994,4968361.027441999],\"yaxis\":\"y10\",\"type\":\"scatter\"},{\"hovertemplate\":\"Cap_CIE=XVIII\\u003cbr\\u003eEventos=%{x}\\u003cbr\\u003eValor_Pagado=%{y}\\u003cextra\\u003e\\u003c\\u002fextra\\u003e\",\"legendgroup\":\"\",\"marker\":{\"color\":\"#636efa\",\"symbol\":\"circle\"},\"mode\":\"markers\",\"name\":\"\",\"orientation\":\"v\",\"showlegend\":false,\"x\":[1,2,3,4,5],\"xaxis\":\"x\",\"y\":[80635426326.24013,2424058478.2445216,175501726.13975197,38882975.189261995,3214921.466148],\"yaxis\":\"y\",\"type\":\"scatter\"},{\"hovertemplate\":\"Cap_CIE=XX\\u003cbr\\u003eEventos=%{x}\\u003cbr\\u003eValor_Pagado=%{y}\\u003cextra\\u003e\\u003c\\u002fextra\\u003e\",\"legendgroup\":\"\",\"marker\":{\"color\":\"#636efa\",\"symbol\":\"circle\"},\"mode\":\"markers\",\"name\":\"\",\"orientation\":\"v\",\"showlegend\":false,\"x\":[1,2,3,4,5,7],\"xaxis\":\"x2\",\"y\":[2369270830.143242,26063013.994053997,915468.547218,960396.8536659998,2553479.230642,1402656.5684379998],\"yaxis\":\"y2\",\"type\":\"scatter\"},{\"hovertemplate\":\"Cap_CIE=XXI\\u003cbr\\u003eEventos=%{x}\\u003cbr\\u003eValor_Pagado=%{y}\\u003cextra\\u003e\\u003c\\u002fextra\\u003e\",\"legendgroup\":\"\",\"marker\":{\"color\":\"#636efa\",\"symbol\":\"circle\"},\"mode\":\"markers\",\"name\":\"\",\"orientation\":\"v\",\"showlegend\":false,\"x\":[1,2,3,4,5,6,7,9],\"xaxis\":\"x3\",\"y\":[99537096035.48582,11264130286.642334,2048015723.1915278,448923262.440008,87420504.502364,19325891.447558,8785783.48188,1198044.64342],\"yaxis\":\"y3\",\"type\":\"scatter\"}],                        {\"template\":{\"data\":{\"barpolar\":[{\"marker\":{\"line\":{\"color\":\"white\",\"width\":0.5},\"pattern\":{\"fillmode\":\"overlay\",\"size\":10,\"solidity\":0.2}},\"type\":\"barpolar\"}],\"bar\":[{\"error_x\":{\"color\":\"#2a3f5f\"},\"error_y\":{\"color\":\"#2a3f5f\"},\"marker\":{\"line\":{\"color\":\"white\",\"width\":0.5},\"pattern\":{\"fillmode\":\"overlay\",\"size\":10,\"solidity\":0.2}},\"type\":\"bar\"}],\"carpet\":[{\"aaxis\":{\"endlinecolor\":\"#2a3f5f\",\"gridcolor\":\"#C8D4E3\",\"linecolor\":\"#C8D4E3\",\"minorgridcolor\":\"#C8D4E3\",\"startlinecolor\":\"#2a3f5f\"},\"baxis\":{\"endlinecolor\":\"#2a3f5f\",\"gridcolor\":\"#C8D4E3\",\"linecolor\":\"#C8D4E3\",\"minorgridcolor\":\"#C8D4E3\",\"startlinecolor\":\"#2a3f5f\"},\"type\":\"carpet\"}],\"choropleth\":[{\"colorbar\":{\"outlinewidth\":0,\"ticks\":\"\"},\"type\":\"choropleth\"}],\"contourcarpet\":[{\"colorbar\":{\"outlinewidth\":0,\"ticks\":\"\"},\"type\":\"contourcarpet\"}],\"contour\":[{\"colorbar\":{\"outlinewidth\":0,\"ticks\":\"\"},\"colorscale\":[[0.0,\"#0d0887\"],[0.1111111111111111,\"#46039f\"],[0.2222222222222222,\"#7201a8\"],[0.3333333333333333,\"#9c179e\"],[0.4444444444444444,\"#bd3786\"],[0.5555555555555556,\"#d8576b\"],[0.6666666666666666,\"#ed7953\"],[0.7777777777777778,\"#fb9f3a\"],[0.8888888888888888,\"#fdca26\"],[1.0,\"#f0f921\"]],\"type\":\"contour\"}],\"heatmapgl\":[{\"colorbar\":{\"outlinewidth\":0,\"ticks\":\"\"},\"colorscale\":[[0.0,\"#0d0887\"],[0.1111111111111111,\"#46039f\"],[0.2222222222222222,\"#7201a8\"],[0.3333333333333333,\"#9c179e\"],[0.4444444444444444,\"#bd3786\"],[0.5555555555555556,\"#d8576b\"],[0.6666666666666666,\"#ed7953\"],[0.7777777777777778,\"#fb9f3a\"],[0.8888888888888888,\"#fdca26\"],[1.0,\"#f0f921\"]],\"type\":\"heatmapgl\"}],\"heatmap\":[{\"colorbar\":{\"outlinewidth\":0,\"ticks\":\"\"},\"colorscale\":[[0.0,\"#0d0887\"],[0.1111111111111111,\"#46039f\"],[0.2222222222222222,\"#7201a8\"],[0.3333333333333333,\"#9c179e\"],[0.4444444444444444,\"#bd3786\"],[0.5555555555555556,\"#d8576b\"],[0.6666666666666666,\"#ed7953\"],[0.7777777777777778,\"#fb9f3a\"],[0.8888888888888888,\"#fdca26\"],[1.0,\"#f0f921\"]],\"type\":\"heatmap\"}],\"histogram2dcontour\":[{\"colorbar\":{\"outlinewidth\":0,\"ticks\":\"\"},\"colorscale\":[[0.0,\"#0d0887\"],[0.1111111111111111,\"#46039f\"],[0.2222222222222222,\"#7201a8\"],[0.3333333333333333,\"#9c179e\"],[0.4444444444444444,\"#bd3786\"],[0.5555555555555556,\"#d8576b\"],[0.6666666666666666,\"#ed7953\"],[0.7777777777777778,\"#fb9f3a\"],[0.8888888888888888,\"#fdca26\"],[1.0,\"#f0f921\"]],\"type\":\"histogram2dcontour\"}],\"histogram2d\":[{\"colorbar\":{\"outlinewidth\":0,\"ticks\":\"\"},\"colorscale\":[[0.0,\"#0d0887\"],[0.1111111111111111,\"#46039f\"],[0.2222222222222222,\"#7201a8\"],[0.3333333333333333,\"#9c179e\"],[0.4444444444444444,\"#bd3786\"],[0.5555555555555556,\"#d8576b\"],[0.6666666666666666,\"#ed7953\"],[0.7777777777777778,\"#fb9f3a\"],[0.8888888888888888,\"#fdca26\"],[1.0,\"#f0f921\"]],\"type\":\"histogram2d\"}],\"histogram\":[{\"marker\":{\"pattern\":{\"fillmode\":\"overlay\",\"size\":10,\"solidity\":0.2}},\"type\":\"histogram\"}],\"mesh3d\":[{\"colorbar\":{\"outlinewidth\":0,\"ticks\":\"\"},\"type\":\"mesh3d\"}],\"parcoords\":[{\"line\":{\"colorbar\":{\"outlinewidth\":0,\"ticks\":\"\"}},\"type\":\"parcoords\"}],\"pie\":[{\"automargin\":true,\"type\":\"pie\"}],\"scatter3d\":[{\"line\":{\"colorbar\":{\"outlinewidth\":0,\"ticks\":\"\"}},\"marker\":{\"colorbar\":{\"outlinewidth\":0,\"ticks\":\"\"}},\"type\":\"scatter3d\"}],\"scattercarpet\":[{\"marker\":{\"colorbar\":{\"outlinewidth\":0,\"ticks\":\"\"}},\"type\":\"scattercarpet\"}],\"scattergeo\":[{\"marker\":{\"colorbar\":{\"outlinewidth\":0,\"ticks\":\"\"}},\"type\":\"scattergeo\"}],\"scattergl\":[{\"marker\":{\"colorbar\":{\"outlinewidth\":0,\"ticks\":\"\"}},\"type\":\"scattergl\"}],\"scattermapbox\":[{\"marker\":{\"colorbar\":{\"outlinewidth\":0,\"ticks\":\"\"}},\"type\":\"scattermapbox\"}],\"scatterpolargl\":[{\"marker\":{\"colorbar\":{\"outlinewidth\":0,\"ticks\":\"\"}},\"type\":\"scatterpolargl\"}],\"scatterpolar\":[{\"marker\":{\"colorbar\":{\"outlinewidth\":0,\"ticks\":\"\"}},\"type\":\"scatterpolar\"}],\"scatter\":[{\"fillpattern\":{\"fillmode\":\"overlay\",\"size\":10,\"solidity\":0.2},\"type\":\"scatter\"}],\"scatterternary\":[{\"marker\":{\"colorbar\":{\"outlinewidth\":0,\"ticks\":\"\"}},\"type\":\"scatterternary\"}],\"surface\":[{\"colorbar\":{\"outlinewidth\":0,\"ticks\":\"\"},\"colorscale\":[[0.0,\"#0d0887\"],[0.1111111111111111,\"#46039f\"],[0.2222222222222222,\"#7201a8\"],[0.3333333333333333,\"#9c179e\"],[0.4444444444444444,\"#bd3786\"],[0.5555555555555556,\"#d8576b\"],[0.6666666666666666,\"#ed7953\"],[0.7777777777777778,\"#fb9f3a\"],[0.8888888888888888,\"#fdca26\"],[1.0,\"#f0f921\"]],\"type\":\"surface\"}],\"table\":[{\"cells\":{\"fill\":{\"color\":\"#EBF0F8\"},\"line\":{\"color\":\"white\"}},\"header\":{\"fill\":{\"color\":\"#C8D4E3\"},\"line\":{\"color\":\"white\"}},\"type\":\"table\"}]},\"layout\":{\"annotationdefaults\":{\"arrowcolor\":\"#2a3f5f\",\"arrowhead\":0,\"arrowwidth\":1},\"autotypenumbers\":\"strict\",\"coloraxis\":{\"colorbar\":{\"outlinewidth\":0,\"ticks\":\"\"}},\"colorscale\":{\"diverging\":[[0,\"#8e0152\"],[0.1,\"#c51b7d\"],[0.2,\"#de77ae\"],[0.3,\"#f1b6da\"],[0.4,\"#fde0ef\"],[0.5,\"#f7f7f7\"],[0.6,\"#e6f5d0\"],[0.7,\"#b8e186\"],[0.8,\"#7fbc41\"],[0.9,\"#4d9221\"],[1,\"#276419\"]],\"sequential\":[[0.0,\"#0d0887\"],[0.1111111111111111,\"#46039f\"],[0.2222222222222222,\"#7201a8\"],[0.3333333333333333,\"#9c179e\"],[0.4444444444444444,\"#bd3786\"],[0.5555555555555556,\"#d8576b\"],[0.6666666666666666,\"#ed7953\"],[0.7777777777777778,\"#fb9f3a\"],[0.8888888888888888,\"#fdca26\"],[1.0,\"#f0f921\"]],\"sequentialminus\":[[0.0,\"#0d0887\"],[0.1111111111111111,\"#46039f\"],[0.2222222222222222,\"#7201a8\"],[0.3333333333333333,\"#9c179e\"],[0.4444444444444444,\"#bd3786\"],[0.5555555555555556,\"#d8576b\"],[0.6666666666666666,\"#ed7953\"],[0.7777777777777778,\"#fb9f3a\"],[0.8888888888888888,\"#fdca26\"],[1.0,\"#f0f921\"]]},\"colorway\":[\"#636efa\",\"#EF553B\",\"#00cc96\",\"#ab63fa\",\"#FFA15A\",\"#19d3f3\",\"#FF6692\",\"#B6E880\",\"#FF97FF\",\"#FECB52\"],\"font\":{\"color\":\"#2a3f5f\"},\"geo\":{\"bgcolor\":\"white\",\"lakecolor\":\"white\",\"landcolor\":\"white\",\"showlakes\":true,\"showland\":true,\"subunitcolor\":\"#C8D4E3\"},\"hoverlabel\":{\"align\":\"left\"},\"hovermode\":\"closest\",\"mapbox\":{\"style\":\"light\"},\"paper_bgcolor\":\"white\",\"plot_bgcolor\":\"white\",\"polar\":{\"angularaxis\":{\"gridcolor\":\"#EBF0F8\",\"linecolor\":\"#EBF0F8\",\"ticks\":\"\"},\"bgcolor\":\"white\",\"radialaxis\":{\"gridcolor\":\"#EBF0F8\",\"linecolor\":\"#EBF0F8\",\"ticks\":\"\"}},\"scene\":{\"xaxis\":{\"backgroundcolor\":\"white\",\"gridcolor\":\"#DFE8F3\",\"gridwidth\":2,\"linecolor\":\"#EBF0F8\",\"showbackground\":true,\"ticks\":\"\",\"zerolinecolor\":\"#EBF0F8\"},\"yaxis\":{\"backgroundcolor\":\"white\",\"gridcolor\":\"#DFE8F3\",\"gridwidth\":2,\"linecolor\":\"#EBF0F8\",\"showbackground\":true,\"ticks\":\"\",\"zerolinecolor\":\"#EBF0F8\"},\"zaxis\":{\"backgroundcolor\":\"white\",\"gridcolor\":\"#DFE8F3\",\"gridwidth\":2,\"linecolor\":\"#EBF0F8\",\"showbackground\":true,\"ticks\":\"\",\"zerolinecolor\":\"#EBF0F8\"}},\"shapedefaults\":{\"line\":{\"color\":\"#2a3f5f\"}},\"ternary\":{\"aaxis\":{\"gridcolor\":\"#DFE8F3\",\"linecolor\":\"#A2B1C6\",\"ticks\":\"\"},\"baxis\":{\"gridcolor\":\"#DFE8F3\",\"linecolor\":\"#A2B1C6\",\"ticks\":\"\"},\"bgcolor\":\"white\",\"caxis\":{\"gridcolor\":\"#DFE8F3\",\"linecolor\":\"#A2B1C6\",\"ticks\":\"\"}},\"title\":{\"x\":0.05},\"xaxis\":{\"automargin\":true,\"gridcolor\":\"#EBF0F8\",\"linecolor\":\"#EBF0F8\",\"ticks\":\"\",\"title\":{\"standoff\":15},\"zerolinecolor\":\"#EBF0F8\",\"zerolinewidth\":2},\"yaxis\":{\"automargin\":true,\"gridcolor\":\"#EBF0F8\",\"linecolor\":\"#EBF0F8\",\"ticks\":\"\",\"title\":{\"standoff\":15},\"zerolinecolor\":\"#EBF0F8\",\"zerolinewidth\":2}}},\"xaxis\":{\"anchor\":\"y\",\"domain\":[0.0,0.18400000000000002],\"title\":{\"text\":\"Eventos\"}},\"yaxis\":{\"anchor\":\"x\",\"domain\":[0.0,0.144],\"title\":{\"text\":\"Valor_Pagado\"}},\"xaxis2\":{\"anchor\":\"y2\",\"domain\":[0.20400000000000001,0.388],\"matches\":\"x\",\"title\":{\"text\":\"Eventos\"}},\"yaxis2\":{\"anchor\":\"x2\",\"domain\":[0.0,0.144],\"matches\":\"y\",\"showticklabels\":false},\"xaxis3\":{\"anchor\":\"y3\",\"domain\":[0.40800000000000003,0.5920000000000001],\"matches\":\"x\",\"title\":{\"text\":\"Eventos\"}},\"yaxis3\":{\"anchor\":\"x3\",\"domain\":[0.0,0.144],\"matches\":\"y\",\"showticklabels\":false},\"xaxis4\":{\"anchor\":\"y4\",\"domain\":[0.6120000000000001,0.7960000000000002],\"matches\":\"x\",\"title\":{\"text\":\"Eventos\"}},\"yaxis4\":{\"anchor\":\"x4\",\"domain\":[0.0,0.144],\"matches\":\"y\",\"showticklabels\":false},\"xaxis5\":{\"anchor\":\"y5\",\"domain\":[0.8160000000000001,1.0],\"matches\":\"x\",\"title\":{\"text\":\"Eventos\"}},\"yaxis5\":{\"anchor\":\"x5\",\"domain\":[0.0,0.144],\"matches\":\"y\",\"showticklabels\":false},\"xaxis6\":{\"anchor\":\"y6\",\"domain\":[0.0,0.18400000000000002],\"matches\":\"x\",\"showticklabels\":false},\"yaxis6\":{\"anchor\":\"x6\",\"domain\":[0.214,0.358],\"matches\":\"y\",\"title\":{\"text\":\"Valor_Pagado\"}},\"xaxis7\":{\"anchor\":\"y7\",\"domain\":[0.20400000000000001,0.388],\"matches\":\"x\",\"showticklabels\":false},\"yaxis7\":{\"anchor\":\"x7\",\"domain\":[0.214,0.358],\"matches\":\"y\",\"showticklabels\":false},\"xaxis8\":{\"anchor\":\"y8\",\"domain\":[0.40800000000000003,0.5920000000000001],\"matches\":\"x\",\"showticklabels\":false},\"yaxis8\":{\"anchor\":\"x8\",\"domain\":[0.214,0.358],\"matches\":\"y\",\"showticklabels\":false},\"xaxis9\":{\"anchor\":\"y9\",\"domain\":[0.6120000000000001,0.7960000000000002],\"matches\":\"x\",\"showticklabels\":false},\"yaxis9\":{\"anchor\":\"x9\",\"domain\":[0.214,0.358],\"matches\":\"y\",\"showticklabels\":false},\"xaxis10\":{\"anchor\":\"y10\",\"domain\":[0.8160000000000001,1.0],\"matches\":\"x\",\"showticklabels\":false},\"yaxis10\":{\"anchor\":\"x10\",\"domain\":[0.214,0.358],\"matches\":\"y\",\"showticklabels\":false},\"xaxis11\":{\"anchor\":\"y11\",\"domain\":[0.0,0.18400000000000002],\"matches\":\"x\",\"showticklabels\":false},\"yaxis11\":{\"anchor\":\"x11\",\"domain\":[0.428,0.572],\"matches\":\"y\",\"title\":{\"text\":\"Valor_Pagado\"}},\"xaxis12\":{\"anchor\":\"y12\",\"domain\":[0.20400000000000001,0.388],\"matches\":\"x\",\"showticklabels\":false},\"yaxis12\":{\"anchor\":\"x12\",\"domain\":[0.428,0.572],\"matches\":\"y\",\"showticklabels\":false},\"xaxis13\":{\"anchor\":\"y13\",\"domain\":[0.40800000000000003,0.5920000000000001],\"matches\":\"x\",\"showticklabels\":false},\"yaxis13\":{\"anchor\":\"x13\",\"domain\":[0.428,0.572],\"matches\":\"y\",\"showticklabels\":false},\"xaxis14\":{\"anchor\":\"y14\",\"domain\":[0.6120000000000001,0.7960000000000002],\"matches\":\"x\",\"showticklabels\":false},\"yaxis14\":{\"anchor\":\"x14\",\"domain\":[0.428,0.572],\"matches\":\"y\",\"showticklabels\":false},\"xaxis15\":{\"anchor\":\"y15\",\"domain\":[0.8160000000000001,1.0],\"matches\":\"x\",\"showticklabels\":false},\"yaxis15\":{\"anchor\":\"x15\",\"domain\":[0.428,0.572],\"matches\":\"y\",\"showticklabels\":false},\"xaxis16\":{\"anchor\":\"y16\",\"domain\":[0.0,0.18400000000000002],\"matches\":\"x\",\"showticklabels\":false},\"yaxis16\":{\"anchor\":\"x16\",\"domain\":[0.6419999999999999,0.7859999999999999],\"matches\":\"y\",\"title\":{\"text\":\"Valor_Pagado\"}},\"xaxis17\":{\"anchor\":\"y17\",\"domain\":[0.20400000000000001,0.388],\"matches\":\"x\",\"showticklabels\":false},\"yaxis17\":{\"anchor\":\"x17\",\"domain\":[0.6419999999999999,0.7859999999999999],\"matches\":\"y\",\"showticklabels\":false},\"xaxis18\":{\"anchor\":\"y18\",\"domain\":[0.40800000000000003,0.5920000000000001],\"matches\":\"x\",\"showticklabels\":false},\"yaxis18\":{\"anchor\":\"x18\",\"domain\":[0.6419999999999999,0.7859999999999999],\"matches\":\"y\",\"showticklabels\":false},\"xaxis19\":{\"anchor\":\"y19\",\"domain\":[0.6120000000000001,0.7960000000000002],\"matches\":\"x\",\"showticklabels\":false},\"yaxis19\":{\"anchor\":\"x19\",\"domain\":[0.6419999999999999,0.7859999999999999],\"matches\":\"y\",\"showticklabels\":false},\"xaxis20\":{\"anchor\":\"y20\",\"domain\":[0.8160000000000001,1.0],\"matches\":\"x\",\"showticklabels\":false},\"yaxis20\":{\"anchor\":\"x20\",\"domain\":[0.6419999999999999,0.7859999999999999],\"matches\":\"y\",\"showticklabels\":false},\"xaxis21\":{\"anchor\":\"y21\",\"domain\":[0.0,0.18400000000000002],\"matches\":\"x\",\"showticklabels\":false},\"yaxis21\":{\"anchor\":\"x21\",\"domain\":[0.856,1.0],\"matches\":\"y\",\"title\":{\"text\":\"Valor_Pagado\"}},\"xaxis22\":{\"anchor\":\"y22\",\"domain\":[0.20400000000000001,0.388],\"matches\":\"x\",\"showticklabels\":false},\"yaxis22\":{\"anchor\":\"x22\",\"domain\":[0.856,1.0],\"matches\":\"y\",\"showticklabels\":false},\"xaxis23\":{\"anchor\":\"y23\",\"domain\":[0.40800000000000003,0.5920000000000001],\"matches\":\"x\",\"showticklabels\":false},\"yaxis23\":{\"anchor\":\"x23\",\"domain\":[0.856,1.0],\"matches\":\"y\",\"showticklabels\":false},\"xaxis24\":{\"anchor\":\"y24\",\"domain\":[0.6120000000000001,0.7960000000000002],\"matches\":\"x\",\"showticklabels\":false},\"yaxis24\":{\"anchor\":\"x24\",\"domain\":[0.856,1.0],\"matches\":\"y\",\"showticklabels\":false},\"xaxis25\":{\"anchor\":\"y25\",\"domain\":[0.8160000000000001,1.0],\"matches\":\"x\",\"showticklabels\":false},\"yaxis25\":{\"anchor\":\"x25\",\"domain\":[0.856,1.0],\"matches\":\"y\",\"showticklabels\":false},\"annotations\":[{\"font\":{},\"showarrow\":false,\"text\":\"\\u003cb\\u003eXVIII\\u003c\\u002fb\\u003e\",\"x\":0.09200000000000001,\"xanchor\":\"center\",\"xref\":\"paper\",\"y\":0.144,\"yanchor\":\"bottom\",\"yref\":\"paper\"},{\"font\":{},\"showarrow\":false,\"text\":\"\\u003cb\\u003eXX\\u003c\\u002fb\\u003e\",\"x\":0.29600000000000004,\"xanchor\":\"center\",\"xref\":\"paper\",\"y\":0.144,\"yanchor\":\"bottom\",\"yref\":\"paper\"},{\"font\":{},\"showarrow\":false,\"text\":\"\\u003cb\\u003eXXI\\u003c\\u002fb\\u003e\",\"x\":0.5,\"xanchor\":\"center\",\"xref\":\"paper\",\"y\":0.144,\"yanchor\":\"bottom\",\"yref\":\"paper\"},{\"font\":{},\"showarrow\":false,\"text\":\"\\u003cb\\u003eXIV\\u003c\\u002fb\\u003e\",\"x\":0.09200000000000001,\"xanchor\":\"center\",\"xref\":\"paper\",\"y\":0.358,\"yanchor\":\"bottom\",\"yref\":\"paper\"},{\"font\":{},\"showarrow\":false,\"text\":\"\\u003cb\\u003eXIX\\u003c\\u002fb\\u003e\",\"x\":0.29600000000000004,\"xanchor\":\"center\",\"xref\":\"paper\",\"y\":0.358,\"yanchor\":\"bottom\",\"yref\":\"paper\"},{\"font\":{},\"showarrow\":false,\"text\":\"\\u003cb\\u003eXV\\u003c\\u002fb\\u003e\",\"x\":0.5,\"xanchor\":\"center\",\"xref\":\"paper\",\"y\":0.358,\"yanchor\":\"bottom\",\"yref\":\"paper\"},{\"font\":{},\"showarrow\":false,\"text\":\"\\u003cb\\u003eXVI\\u003c\\u002fb\\u003e\",\"x\":0.7040000000000002,\"xanchor\":\"center\",\"xref\":\"paper\",\"y\":0.358,\"yanchor\":\"bottom\",\"yref\":\"paper\"},{\"font\":{},\"showarrow\":false,\"text\":\"\\u003cb\\u003eXVII\\u003c\\u002fb\\u003e\",\"x\":0.908,\"xanchor\":\"center\",\"xref\":\"paper\",\"y\":0.358,\"yanchor\":\"bottom\",\"yref\":\"paper\"},{\"font\":{},\"showarrow\":false,\"text\":\"\\u003cb\\u003eVIII\\u003c\\u002fb\\u003e\",\"x\":0.09200000000000001,\"xanchor\":\"center\",\"xref\":\"paper\",\"y\":0.572,\"yanchor\":\"bottom\",\"yref\":\"paper\"},{\"font\":{},\"showarrow\":false,\"text\":\"\\u003cb\\u003eX\\u003c\\u002fb\\u003e\",\"x\":0.29600000000000004,\"xanchor\":\"center\",\"xref\":\"paper\",\"y\":0.572,\"yanchor\":\"bottom\",\"yref\":\"paper\"},{\"font\":{},\"showarrow\":false,\"text\":\"\\u003cb\\u003eXI\\u003c\\u002fb\\u003e\",\"x\":0.5,\"xanchor\":\"center\",\"xref\":\"paper\",\"y\":0.572,\"yanchor\":\"bottom\",\"yref\":\"paper\"},{\"font\":{},\"showarrow\":false,\"text\":\"\\u003cb\\u003eXII\\u003c\\u002fb\\u003e\",\"x\":0.7040000000000002,\"xanchor\":\"center\",\"xref\":\"paper\",\"y\":0.572,\"yanchor\":\"bottom\",\"yref\":\"paper\"},{\"font\":{},\"showarrow\":false,\"text\":\"\\u003cb\\u003eXIII\\u003c\\u002fb\\u003e\",\"x\":0.908,\"xanchor\":\"center\",\"xref\":\"paper\",\"y\":0.572,\"yanchor\":\"bottom\",\"yref\":\"paper\"},{\"font\":{},\"showarrow\":false,\"text\":\"\\u003cb\\u003eSin Diagnostico\\u003c\\u002fb\\u003e\",\"x\":0.09200000000000001,\"xanchor\":\"center\",\"xref\":\"paper\",\"y\":0.7859999999999999,\"yanchor\":\"bottom\",\"yref\":\"paper\"},{\"font\":{},\"showarrow\":false,\"text\":\"\\u003cb\\u003eSin info\\u003c\\u002fb\\u003e\",\"x\":0.29600000000000004,\"xanchor\":\"center\",\"xref\":\"paper\",\"y\":0.7859999999999999,\"yanchor\":\"bottom\",\"yref\":\"paper\"},{\"font\":{},\"showarrow\":false,\"text\":\"\\u003cb\\u003eV\\u003c\\u002fb\\u003e\",\"x\":0.5,\"xanchor\":\"center\",\"xref\":\"paper\",\"y\":0.7859999999999999,\"yanchor\":\"bottom\",\"yref\":\"paper\"},{\"font\":{},\"showarrow\":false,\"text\":\"\\u003cb\\u003eVI\\u003c\\u002fb\\u003e\",\"x\":0.7040000000000002,\"xanchor\":\"center\",\"xref\":\"paper\",\"y\":0.7859999999999999,\"yanchor\":\"bottom\",\"yref\":\"paper\"},{\"font\":{},\"showarrow\":false,\"text\":\"\\u003cb\\u003eVII\\u003c\\u002fb\\u003e\",\"x\":0.908,\"xanchor\":\"center\",\"xref\":\"paper\",\"y\":0.7859999999999999,\"yanchor\":\"bottom\",\"yref\":\"paper\"},{\"font\":{},\"showarrow\":false,\"text\":\"\\u003cb\\u003eI\\u003c\\u002fb\\u003e\",\"x\":0.09200000000000001,\"xanchor\":\"center\",\"xref\":\"paper\",\"y\":1.0,\"yanchor\":\"bottom\",\"yref\":\"paper\"},{\"font\":{},\"showarrow\":false,\"text\":\"\\u003cb\\u003eII\\u003c\\u002fb\\u003e\",\"x\":0.29600000000000004,\"xanchor\":\"center\",\"xref\":\"paper\",\"y\":1.0,\"yanchor\":\"bottom\",\"yref\":\"paper\"},{\"font\":{},\"showarrow\":false,\"text\":\"\\u003cb\\u003eIII\\u003c\\u002fb\\u003e\",\"x\":0.5,\"xanchor\":\"center\",\"xref\":\"paper\",\"y\":1.0,\"yanchor\":\"bottom\",\"yref\":\"paper\"},{\"font\":{},\"showarrow\":false,\"text\":\"\\u003cb\\u003eIV\\u003c\\u002fb\\u003e\",\"x\":0.7040000000000002,\"xanchor\":\"center\",\"xref\":\"paper\",\"y\":1.0,\"yanchor\":\"bottom\",\"yref\":\"paper\"},{\"font\":{},\"showarrow\":false,\"text\":\"\\u003cb\\u003eIX\\u003c\\u002fb\\u003e\",\"x\":0.908,\"xanchor\":\"center\",\"xref\":\"paper\",\"y\":1.0,\"yanchor\":\"bottom\",\"yref\":\"paper\"}],\"legend\":{\"tracegroupgap\":0},\"margin\":{\"t\":60},\"height\":900,\"width\":1456.2305898749055},                        {\"responsive\": true}                    ).then(function(){\n",
       "                            \n",
       "var gd = document.getElementById('2cde9d21-6f88-4f09-86e0-f934557b4aac');\n",
       "var x = new MutationObserver(function (mutations, observer) {{\n",
       "        var display = window.getComputedStyle(gd).display;\n",
       "        if (!display || display === 'none') {{\n",
       "            console.log([gd, 'removed!']);\n",
       "            Plotly.purge(gd);\n",
       "            observer.disconnect();\n",
       "        }}\n",
       "}});\n",
       "\n",
       "// Listen for the removal of the full notebook cells\n",
       "var notebookContainer = gd.closest('#notebook-container');\n",
       "if (notebookContainer) {{\n",
       "    x.observe(notebookContainer, {childList: true});\n",
       "}}\n",
       "\n",
       "// Listen for the clearing of the current output cell\n",
       "var outputEl = gd.closest('.output');\n",
       "if (outputEl) {{\n",
       "    x.observe(outputEl, {childList: true});\n",
       "}}\n",
       "\n",
       "                        })                };                });            </script>        </div>"
      ]
     },
     "metadata": {},
     "output_type": "display_data"
    }
   ],
   "source": [
    "data = df_sin.groupby([\"Cap_CIE\", \"Eventos\"], as_index=False)[\"Valor_Pagado\"].sum()\n",
    "\n",
    "fig = px.scatter(data, x=\"Eventos\", y=\"Valor_Pagado\", facet_col=\"Cap_CIE\", facet_col_wrap=5, width=900*((1+np.sqrt(5))/2), height=900, template=\"plotly_white\")\n",
    "\n",
    "fig.for_each_annotation(lambda x: x.update(text= f\"<b>{x.text.split('=')[1]}</b>\"))\n"
   ]
  },
  {
   "cell_type": "code",
   "execution_count": null,
   "metadata": {},
   "outputs": [],
   "source": [
    "w_1 = widgets.Dropdown(options=np.sort(df_sin[\"Diagnostico_Codigo\"].unique()))\n",
    "\n",
    "def groupby(w_1):\n",
    "\n",
    "  df = df_sin[[\"Reclamacion\", \"Diagnostico_Codigo\", \"Diagnostico_Desc\"]].groupby(\"Diagnostico_Codigo\").get_group(w_1)\n",
    "  display(df)\n",
    "\n",
    "output = interactive_output(groupby, {\"w_1\":w_1})\n",
    "\n",
    "display(output, w_1)"
   ]
  },
  {
   "cell_type": "markdown",
   "metadata": {
    "id": "4wmWv3ATtpWD"
   },
   "source": [
    "## Sociodemo\n",
    "\n"
   ]
  },
  {
   "cell_type": "code",
   "execution_count": 71,
   "metadata": {
    "id": "ch7fMEpzgqwF"
   },
   "outputs": [],
   "source": [
    "#Cálculo de la edad a partir de la fecha de nacimiento\n",
    "df_sociodem[\"Edad\"] = ((datetime.today() - df_sociodem[\"FechaNacimiento\"])/pd.Timedelta(days=365.25)).astype(int)"
   ]
  },
  {
   "cell_type": "code",
   "execution_count": null,
   "metadata": {},
   "outputs": [],
   "source": [
    "# Agrupar el DataFrame df_sociodem por \"Ciudad\" y \"Edad\", y sumar los valores de las columnas de enfermedades\n",
    "data = df_sociodem.groupby([\"Ciudad\", \"Edad\"], as_index=False)[[\"CANCER\", \"EPOC\", \"DIABETES\", \"DIABETES\", \"ENF_CARDIOVASCULAR\"]].sum()\n",
    "\n",
    "# Convertir el DataFrame en formato largo para facilitar la visualización con Plotly\n",
    "data = data.melt(id_vars=[\"Ciudad\", \"Edad\"], value_vars=[\"CANCER\", \"EPOC\", \"DIABETES\", \"DIABETES\", \"ENF_CARDIOVASCULAR\"], value_name=\"Total\", var_name=\"Tipo\")\n",
    "\n",
    "# Crear una gráfica de líneas utilizando Plotly Express\n",
    "fig = px.line(data, x=\"Edad\", y=\"Total\", facet_col=\"Ciudad\", color=\"Tipo\", template=\"plotly_white\", facet_col_wrap=3, \n",
    "              labels={\"Tipo\":\"<b>Tipo de enfermedad</b>\"}, range_x=0, title=\"<b>Cantidad de enfermedades por edad,<br>en las distintas ciudades\", \n",
    "              width=650*((1+np.sqrt(5))/2), height=650, color_discrete_sequence=px.colors.qualitative.T10)\n",
    "\n",
    "# Actualizar el layout del título para centrarlo\n",
    "fig.update_layout(title={\"x\":0.5})\n",
    "\n",
    "# Modificar las anotaciones para resaltar el nombre de la ciudad\n",
    "fig.for_each_annotation(lambda x: x.update(text= f\"<b>{x.text.split('=')[1]}</b>\"))\n",
    "\n",
    "# Mostrar la gráfica\n",
    "fig.show()"
   ]
  },
  {
   "cell_type": "code",
   "execution_count": null,
   "metadata": {},
   "outputs": [],
   "source": [
    "df_sociodem[\"Ciudad\"] = df_sociodem[\"Ciudad\"].replace(\"Sin Información\", np.nan)\n",
    "\n",
    "data = df_sociodem[\"Ciudad\"].value_counts().to_frame().reset_index()\n",
    "\n",
    "plt.pie(data[\"count\"], labels=data[\"Ciudad\"], autopct=\"%1.1f%%\", colors=sns.color_palette(\"hls\", 9))\n",
    "\n",
    "plt.title(\"Porcentaje de datos por Ciudad\")\n",
    "\n",
    "plt.show()"
   ]
  },
  {
   "cell_type": "markdown",
   "metadata": {},
   "source": [
    "## Cruce de datos"
   ]
  },
  {
   "cell_type": "code",
   "execution_count": 78,
   "metadata": {},
   "outputs": [],
   "source": [
    "df = df_sin.set_index(\"Asegurado_Id\").join(df_sociodem.set_index(\"Asegurado_Id\"), how=\"inner\").join(df_expuestos.set_index(\"Asegurado_Id\"), how=\"inner\").reset_index()\n",
    "\n",
    "df.dropna(inplace=True)"
   ]
  },
  {
   "cell_type": "code",
   "execution_count": 84,
   "metadata": {},
   "outputs": [
    {
     "data": {
      "text/plain": [
       "235444"
      ]
     },
     "execution_count": 84,
     "metadata": {},
     "output_type": "execute_result"
    }
   ],
   "source": [
    "df[\"Asegurado_Id\"].nunique()"
   ]
  },
  {
   "cell_type": "code",
   "execution_count": 85,
   "metadata": {},
   "outputs": [
    {
     "data": {
      "application/vnd.jupyter.widget-view+json": {
       "model_id": "d7db584ca0b64d1bb6660e3ec4db265b",
       "version_major": 2,
       "version_minor": 0
      },
      "text/plain": [
       "Dropdown(options=(738284, 738288, 738294, 738303, 738318, 738328, 738341, 738347, 738348, 738349, 738358, 7383…"
      ]
     },
     "metadata": {},
     "output_type": "display_data"
    },
    {
     "data": {
      "application/vnd.jupyter.widget-view+json": {
       "model_id": "fb30c9dd7029423da3257d071f61e6ef",
       "version_major": 2,
       "version_minor": 0
      },
      "text/plain": [
       "Output()"
      ]
     },
     "metadata": {},
     "output_type": "display_data"
    }
   ],
   "source": [
    "wid_1 = widgets.Dropdown(options=df[\"Asegurado_Id\"].unique()[:1000])\n",
    "\n",
    "def groupby(id):\n",
    "    data = df.groupby(\"Asegurado_Id\").get_group(id)\n",
    "    display(data)\n",
    "\n",
    "output = interactive_output(groupby, {\"id\":wid_1})\n",
    "display(wid_1, output)"
   ]
  },
  {
   "cell_type": "code",
   "execution_count": 88,
   "metadata": {},
   "outputs": [
    {
     "data": {
      "text/plain": [
       "'C:\\\\Users\\\\Lukas\\\\anaconda3\\\\envs\\\\HR\\\\python.exe'"
      ]
     },
     "execution_count": 88,
     "metadata": {},
     "output_type": "execute_result"
    }
   ],
   "source": [
    "import sys\n",
    "\n",
    "sys.executable\n"
   ]
  }
 ],
 "metadata": {
  "colab": {
   "collapsed_sections": [
    "Yu5s6SnhuYWS"
   ],
   "provenance": []
  },
  "kernelspec": {
   "display_name": "Python 3 (ipykernel)",
   "language": "python",
   "name": "python3"
  },
  "language_info": {
   "codemirror_mode": {
    "name": "ipython",
    "version": 3
   },
   "file_extension": ".py",
   "mimetype": "text/x-python",
   "name": "python",
   "nbconvert_exporter": "python",
   "pygments_lexer": "ipython3",
   "version": "3.11.7"
  },
  "widgets": {
   "application/vnd.jupyter.widget-state+json": {
    "state": {},
    "version_major": 2,
    "version_minor": 0
   }
  }
 },
 "nbformat": 4,
 "nbformat_minor": 4
}
